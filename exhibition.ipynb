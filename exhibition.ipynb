{
 "cells": [
  {
   "attachments": {},
   "cell_type": "markdown",
   "metadata": {},
   "source": [
    "## 目录\n",
    "1. [一维无限深方势阱中的能量](#一维无限深方势阱中的能量)\n",
    "2. [精细结构常数](##精细结构常数fine-structure-constant)\n",
    "3. [原子的大小](https://github.com/PencilFan/Dimanaly/blob/main/exhibition.ipynb##原子大小电子半径电子绕核运动半径)"
   ]
  },
  {
   "cell_type": "code",
   "execution_count": 1,
   "metadata": {},
   "outputs": [],
   "source": [
    "import Dimanaly\n",
    "import sympy as sp"
   ]
  },
  {
   "attachments": {},
   "cell_type": "markdown",
   "metadata": {},
   "source": [
    "## 一维无限深方势阱中的能量"
   ]
  },
  {
   "cell_type": "code",
   "execution_count": 8,
   "metadata": {},
   "outputs": [
    {
     "name": "stdout",
     "output_type": "stream",
     "text": [
      "输出的表达式为:\n"
     ]
    },
    {
     "data": {
      "text/latex": [
       "$\\displaystyle \\frac{h^{2}}{E a^{2} \\mu} = C$"
      ],
      "text/plain": [
       "Eq(h**2/(E*a**2*mu), C)"
      ]
     },
     "metadata": {},
     "output_type": "display_data"
    },
    {
     "name": "stdout",
     "output_type": "stream",
     "text": [
      "能量的表达式为:\n"
     ]
    },
    {
     "data": {
      "text/latex": [
       "$\\displaystyle E = \\frac{h^{2}}{C a^{2} \\mu}$"
      ],
      "text/plain": [
       "Eq(E, h**2/(C*a**2*mu))"
      ]
     },
     "metadata": {},
     "output_type": "display_data"
    }
   ],
   "source": [
    "import Dimanaly\n",
    "import sympy as sp\n",
    "E=Dimanaly.DimVar('E','能量',regex=True)\n",
    "a=Dimanaly.DimVar('a',L=1)\n",
    "mu=Dimanaly.DimVar('mu','m')\n",
    "varlist=[E,a,'h',mu]\n",
    "expr_PotentialWell=Dimanaly.DimFormula(varlist)\n",
    "print('输出的表达式为:')\n",
    "display(expr_PotentialWell.get_formula())#使用display在jupyter中展示结果\n",
    "print('能量的表达式为:')\n",
    "display(expr_PotentialWell.get_formulafor(E))"
   ]
  },
  {
   "attachments": {},
   "cell_type": "markdown",
   "metadata": {},
   "source": [
    "## 精细结构常数(fine-structure constant)"
   ]
  },
  {
   "cell_type": "code",
   "execution_count": 2,
   "metadata": {},
   "outputs": [
    {
     "name": "stdout",
     "output_type": "stream",
     "text": [
      "输出为\n"
     ]
    },
    {
     "data": {
      "text/latex": [
       "$\\displaystyle \\frac{\\sqrt{c} \\sqrt{\\epsilon_{0}} \\sqrt{\\hbar}}{e} = C$"
      ],
      "text/plain": [
       "Eq(sqrt(c)*sqrt(epsilon_0)*sqrt(hbar)/e, C)"
      ]
     },
     "metadata": {},
     "output_type": "display_data"
    },
    {
     "name": "stdout",
     "output_type": "stream",
     "text": [
      "整理后的精细结构表达式\n"
     ]
    },
    {
     "data": {
      "text/latex": [
       "$\\displaystyle \\alpha = \\frac{e^{2}}{4 \\pi c \\epsilon_{0} \\hbar}$"
      ],
      "text/plain": [
       "Eq(alpha, e**2/(4*pi*c*epsilon_0*hbar))"
      ]
     },
     "execution_count": 2,
     "metadata": {},
     "output_type": "execute_result"
    }
   ],
   "source": [
    "AlphaConstant=Dimanaly.DimFormula(['hbar','epsilon_0','c','e'])\n",
    "formula_AlphaConstant=AlphaConstant.get_formula()\n",
    "print('输出为')\n",
    "display(formula_AlphaConstant)\n",
    "expr_lhs=formula_AlphaConstant.lhs\n",
    "expr2=1/expr_lhs**2/(4*sp.pi)\n",
    "print('整理后的精细结构表达式')\n",
    "sp.Eq(sp.var('alpha'),expr2)"
   ]
  },
  {
   "cell_type": "code",
   "execution_count": 4,
   "metadata": {},
   "outputs": [
    {
     "data": {
      "text/latex": [
       "$\\displaystyle 3.30262179735227 = C$"
      ],
      "text/plain": [
       "Eq(3.30262179735227, C)"
      ]
     },
     "execution_count": 4,
     "metadata": {},
     "output_type": "execute_result"
    }
   ],
   "source": [
    "AlphaConstant.get_formulavalue()"
   ]
  },
  {
   "cell_type": "code",
   "execution_count": 5,
   "metadata": {},
   "outputs": [
    {
     "data": {
      "text/latex": [
       "$\\displaystyle 137.065309118907$"
      ],
      "text/plain": [
       "137.065309118907"
      ]
     },
     "execution_count": 5,
     "metadata": {},
     "output_type": "execute_result"
    }
   ],
   "source": [
    "value=Dimanaly.subs_symbols([expr2],AlphaConstant.get_dimvarlist(),to_value=True)[0]\n",
    "1/value.evalf()"
   ]
  },
  {
   "attachments": {},
   "cell_type": "markdown",
   "metadata": {},
   "source": [
    "## 原子大小、电子半径(电子绕核运动半径)\n",
    "<br>曾谨言量子力学p7、5.3电子半径"
   ]
  },
  {
   "cell_type": "code",
   "execution_count": 23,
   "metadata": {},
   "outputs": [
    {
     "data": {
      "text/latex": [
       "$\\displaystyle \\frac{e^{2}}{c^{2} \\epsilon_{0} m_{e} r_{e}} = C$"
      ],
      "text/plain": [
       "Eq(e**2/(c**2*epsilon_0*m_e*r_e), C)"
      ]
     },
     "metadata": {},
     "output_type": "display_data"
    },
    {
     "data": {
      "text/latex": [
       "$\\displaystyle r_{e} = \\frac{e^{2}}{C c^{2} \\epsilon_{0} m_{e}}$"
      ],
      "text/plain": [
       "Eq(r_e, e**2/(C*c**2*epsilon_0*m_e))"
      ]
     },
     "metadata": {},
     "output_type": "display_data"
    }
   ],
   "source": [
    "r=Dimanaly.DimVar('r_e',L=1)\n",
    "ClassiElecRadius=Dimanaly.DimFormula(['m_e','c','epsilon_0','e',r])\n",
    "display(ClassiElecRadius.get_formula())\n",
    "ClassiElecRadius_r=ClassiElecRadius.get_formulafor(r)\n",
    "display(ClassiElecRadius_r)"
   ]
  },
  {
   "cell_type": "code",
   "execution_count": 24,
   "metadata": {},
   "outputs": [
    {
     "data": {
      "text/latex": [
       "$\\displaystyle r_{e} = \\frac{e^{2}}{4 \\pi c^{2} \\epsilon_{0} m_{e}}$"
      ],
      "text/plain": [
       "Eq(r_e, e**2/(4*pi*c**2*epsilon_0*m_e))"
      ]
     },
     "metadata": {},
     "output_type": "display_data"
    },
    {
     "data": {
      "text/latex": [
       "$\\displaystyle 2.81723703663166 \\cdot 10^{-15}$"
      ],
      "text/plain": [
       "2.81723703663166e-15"
      ]
     },
     "execution_count": 24,
     "metadata": {},
     "output_type": "execute_result"
    }
   ],
   "source": [
    "ClassiElecRadius_r2=ClassiElecRadius_r.subs('C',sp.pi*4)\n",
    "display(ClassiElecRadius_r2)\n",
    "value=Dimanaly.subs_symbols([ClassiElecRadius_r2.rhs],ClassiElecRadius.get_dimvarlist())\n",
    "value[0].evalf()"
   ]
  },
  {
   "cell_type": "code",
   "execution_count": 21,
   "metadata": {},
   "outputs": [
    {
     "data": {
      "text/latex": [
       "$\\displaystyle \\frac{\\epsilon_{0} \\hbar^{2}}{e^{2} m_{e} r_{e}} = C$"
      ],
      "text/plain": [
       "Eq(epsilon_0*hbar**2/(e**2*m_e*r_e), C)"
      ]
     },
     "metadata": {},
     "output_type": "display_data"
    },
    {
     "data": {
      "text/latex": [
       "$\\displaystyle r_{e} = \\frac{\\epsilon_{0} \\hbar^{2}}{C e^{2} m_{e}}$"
      ],
      "text/plain": [
       "Eq(r_e, epsilon_0*hbar**2/(C*e**2*m_e))"
      ]
     },
     "metadata": {},
     "output_type": "display_data"
    }
   ],
   "source": [
    "QuanElecRadius=Dimanaly.DimFormula(['m_e','hbar','epsilon_0','e',r])\n",
    "display(QuanElecRadius.get_formula())\n",
    "QuanElecRadius_r=QuanElecRadius.get_formulafor(r)\n",
    "display(QuanElecRadius_r)"
   ]
  },
  {
   "cell_type": "code",
   "execution_count": 27,
   "metadata": {},
   "outputs": [
    {
     "data": {
      "text/latex": [
       "$\\displaystyle r_{e} = \\frac{4 \\pi \\epsilon_{0} \\hbar^{2}}{e^{2} m_{e}}$"
      ],
      "text/plain": [
       "Eq(r_e, 4*pi*epsilon_0*hbar**2/(e**2*m_e))"
      ]
     },
     "metadata": {},
     "output_type": "display_data"
    },
    {
     "data": {
      "text/latex": [
       "$\\displaystyle 5.29271475644479 \\cdot 10^{-11}$"
      ],
      "text/plain": [
       "5.29271475644479e-11"
      ]
     },
     "execution_count": 27,
     "metadata": {},
     "output_type": "execute_result"
    }
   ],
   "source": [
    "QuanElecRadius_r2=QuanElecRadius_r.subs('C',1/sp.pi/4)\n",
    "display(QuanElecRadius_r2)\n",
    "value=Dimanaly.subs_symbols([QuanElecRadius_r2.rhs],QuanElecRadius.get_dimvarlist())\n",
    "value[0].evalf()"
   ]
  },
  {
   "attachments": {},
   "cell_type": "markdown",
   "metadata": {},
   "source": [
    "## 恐龙奔跑的速度"
   ]
  },
  {
   "cell_type": "code",
   "execution_count": 43,
   "metadata": {},
   "outputs": [
    {
     "data": {
      "text/latex": [
       "$\\displaystyle \\frac{h}{\\lambda} = \\Pi{\\left(\\frac{v^{2}}{g h} \\right)}$"
      ],
      "text/plain": [
       "Eq(h/lambda, \\Pi(v**2/(g*h)))"
      ]
     },
     "execution_count": 43,
     "metadata": {},
     "output_type": "execute_result"
    }
   ],
   "source": [
    "h=Dimanaly.DimVar('h',L=1)\n",
    "Lambda=Dimanaly.DimVar('lambda',L=1)\n",
    "SpeedofDinosaurs=Dimanaly.DimFormula([h,'v',Lambda,'g'])\n",
    "SpeedofDinosaurs.get_formula()"
   ]
  },
  {
   "attachments": {},
   "cell_type": "markdown",
   "metadata": {},
   "source": [
    "## 单摆的周期"
   ]
  },
  {
   "cell_type": "code",
   "execution_count": 4,
   "metadata": {},
   "outputs": [
    {
     "name": "stdout",
     "output_type": "stream",
     "text": [
      "输出的表达式为:\n"
     ]
    },
    {
     "data": {
      "text/latex": [
       "$\\displaystyle \\frac{\\sqrt{l}}{T \\sqrt{g}} = \\Pi{\\left(\\frac{g l m}{E} \\right)}$"
      ],
      "text/plain": [
       "Eq(sqrt(l)/(T*sqrt(g)), \\Pi(g*l*m/E))"
      ]
     },
     "metadata": {},
     "output_type": "display_data"
    },
    {
     "name": "stdout",
     "output_type": "stream",
     "text": [
      "单摆周期为:\n"
     ]
    },
    {
     "data": {
      "text/latex": [
       "$\\displaystyle T = \\frac{\\sqrt{l}}{\\sqrt{g} \\Pi{\\left(\\frac{g l m}{E} \\right)}}$"
      ],
      "text/plain": [
       "Eq(T, sqrt(l)/(sqrt(g)*\\Pi(g*l*m/E)))"
      ]
     },
     "metadata": {},
     "output_type": "display_data"
    }
   ],
   "source": [
    "T=Dimanaly.DimVar('T',T=1)\n",
    "E=Dimanaly.DimVar('E','energy',regex=True)\n",
    "# SimplePendulum=Dimanaly.DimFormula([T,E,'g','m','l'])#T在函数中出现了两次\n",
    "# SimplePendulum=Dimanaly.DimFormula([E,'g','m','l',T])#把T放在后面,越后面的量越容易成为othergroup,越容易在函数中只出现一次\n",
    "# SimplePendulum=Dimanaly.DimFormula([E,'g','m',T,'l'])#一般othegroup中的第一个向量会放在函数的外面,但E又出现了两次\n",
    "SimplePendulum=Dimanaly.DimFormula(['g','m','l',T,E])#这才是我们想要的表达式\n",
    "print('输出的表达式为:')\n",
    "display(SimplePendulum.get_formula())\n",
    "print('单摆周期为:')\n",
    "display(SimplePendulum.get_formulafor(T))"
   ]
  },
  {
   "attachments": {},
   "cell_type": "markdown",
   "metadata": {},
   "source": [
    "## 4.2 管道流动的传热\n",
    "<br>"
   ]
  },
  {
   "cell_type": "code",
   "execution_count": 7,
   "metadata": {},
   "outputs": [
    {
     "data": {
      "text/latex": [
       "$\\displaystyle \\Pi{\\left(\\frac{d \\rho v}{\\mu},\\frac{d^{3} \\rho v^{2}}{\\theta},\\frac{v}{d^{2} \\kappa},\\frac{1}{c d^{3} \\rho},\\frac{v}{d^{3} h},\\frac{d}{l} \\right)} = 0$"
      ],
      "text/plain": [
       "Eq(\\Pi(d*rho*v/mu, d**3*rho*v**2/theta, v/(d**2*kappa), 1/(c*d**3*rho), v/(d**3*h), d/l), 0)"
      ]
     },
     "metadata": {},
     "output_type": "display_data"
    }
   ],
   "source": [
    "import Dimanaly\n",
    "import sympy as sp\n",
    "mu=Dimanaly.DimVar('mu',M=1,L=-1,T=-1)\n",
    "kappa=Dimanaly.DimVar('kappa',L=-1,T=-1)\n",
    "c=Dimanaly.DimVar('c',M=-1)\n",
    "h=Dimanaly.DimVar('h',L=-2,T=-1,value_of_SI=2)\n",
    "d=Dimanaly.DimVar('d',L=1)\n",
    "rho=Dimanaly.DimVar('rho','rho_m')\n",
    "theta=Dimanaly.DimVar('theta',M=1,L=2,T=-2)\n",
    "expr_HeatPipeline=Dimanaly.DimFormula([rho,'速度',d,mu,theta,kappa,c,h,'l'])\n",
    "display(expr_HeatPipeline.get_formula())"
   ]
  },
  {
   "cell_type": "code",
   "execution_count": 8,
   "metadata": {},
   "outputs": [
    {
     "data": {
      "text/latex": [
       "$\\displaystyle \\Pi{\\left(\\frac{d h}{\\kappa},\\frac{\\mu}{d \\rho v},\\frac{\\kappa}{c \\mu},\\frac{v^{2}}{c \\theta},\\frac{v}{\\kappa l^{2}},\\frac{l}{d} \\right)} = 0$"
      ],
      "text/plain": [
       "Eq(\\Pi(d*h/kappa, mu/(d*rho*v), kappa/(c*mu), v**2/(c*theta), v/(kappa*l**2), l/d), 0)"
      ]
     },
     "execution_count": 8,
     "metadata": {},
     "output_type": "execute_result"
    }
   ],
   "source": [
    "expr_HeatPipeline2=Dimanaly.DimFormula([h,d,kappa],[d,rho,mu,'速度'],[mu,kappa,c],['速度',theta,c,'l',kappa,d])\n",
    "expr_HeatPipeline2.get_formula()"
   ]
  },
  {
   "cell_type": "code",
   "execution_count": 9,
   "metadata": {},
   "outputs": [
    {
     "name": "stdout",
     "output_type": "stream",
     "text": [
      "the degree of freedom is correct\n"
     ]
    }
   ],
   "source": [
    "expr_HeatPipeline2.check_freedom()"
   ]
  },
  {
   "attachments": {},
   "cell_type": "markdown",
   "metadata": {},
   "source": [
    "## 4.3 饮料加冰冷却"
   ]
  },
  {
   "cell_type": "code",
   "execution_count": 5,
   "metadata": {},
   "outputs": [
    {
     "name": "stdout",
     "output_type": "stream",
     "text": [
      "输出的表达式为:\n"
     ]
    },
    {
     "data": {
      "text/latex": [
       "$\\displaystyle \\frac{c l^{2}}{T \\kappa} = \\Pi{\\left(\\frac{c l^{3}}{k_{B}} \\right)}$"
      ],
      "text/plain": [
       "Eq(c*l**2/(T*kappa), \\Pi(c*l**3/k_B))"
      ]
     },
     "metadata": {},
     "output_type": "display_data"
    },
    {
     "name": "stdout",
     "output_type": "stream",
     "text": [
      "T的表达式为:\n"
     ]
    },
    {
     "data": {
      "text/latex": [
       "$\\displaystyle T = \\frac{c l^{2}}{\\kappa \\Pi{\\left(\\frac{c l^{3}}{k_{B}} \\right)}}$"
      ],
      "text/plain": [
       "Eq(T, c*l**2/(kappa*\\Pi(c*l**3/k_B)))"
      ]
     },
     "metadata": {},
     "output_type": "display_data"
    }
   ],
   "source": [
    "T=Dimanaly.DimVar('T',T=1)\n",
    "theta=Dimanaly.DimVar('Theta',Theta=1)\n",
    "c=Dimanaly.DimVar('c',M=1,L=-1,T=-2,Theta=-1)\n",
    "kappa=Dimanaly.DimVar('kappa',M=1,L=1,T=-3,Theta=-1)\n",
    "CoolDrink=Dimanaly.DimFormula(['l',T,theta,c,kappa,'k_B'])\n",
    "print('输出的表达式为:')\n",
    "display(CoolDrink.get_formula())\n",
    "print('T的表达式为:')\n",
    "display(CoolDrink.get_formulafor(T))"
   ]
  },
  {
   "attachments": {},
   "cell_type": "markdown",
   "metadata": {},
   "source": [
    "## 电荷守恒定律"
   ]
  },
  {
   "cell_type": "code",
   "execution_count": 6,
   "metadata": {},
   "outputs": [
    {
     "name": "stdout",
     "output_type": "stream",
     "text": [
      "输出的表达式为:\n"
     ]
    },
    {
     "data": {
      "text/latex": [
       "$\\displaystyle \\frac{\\frac{\\partial\\rho}{\\partial t}}{\\nabla\\cdot{\\vec{j}} } = C$"
      ],
      "text/plain": [
       "Eq(\\frac{\\partial\\rho}{\\partial t}/\\nabla\\cdot{\\vec{j}} , C)"
      ]
     },
     "metadata": {},
     "output_type": "display_data"
    },
    {
     "name": "stdout",
     "output_type": "stream",
     "text": [
      "整理后得到:\n"
     ]
    },
    {
     "data": {
      "text/latex": [
       "$\\displaystyle \\frac{\\partial\\rho}{\\partial t} = C \\nabla\\cdot{\\vec{j}} $"
      ],
      "text/plain": [
       "Eq(\\frac{\\partial\\rho}{\\partial t}, C*\\nabla\\cdot{\\vec{j}} )"
      ]
     },
     "metadata": {},
     "output_type": "display_data"
    }
   ],
   "source": [
    "rhodivt=Dimanaly.DimVar('\\\\frac{\\partial\\\\rho}{\\partial t}')#注意需要使用两个反斜杠'\\\\'\n",
    "rhodivt.change_dimdic({'rho_q':1,'t':-1})\n",
    "divergencej=Dimanaly.DimVar('\\\\nabla\\cdot{\\\\vec{j}} ')\n",
    "divergencej.change_dimdic({'j':1,'l':-1})\n",
    "ConservationOfCharge=Dimanaly.DimFormula([rhodivt,divergencej])\n",
    "# display(Markdown('电荷守恒定律为:{expr_ConservationOfCharge}'))#这样表达式就变成了字符串的形式\n",
    "print('输出的表达式为:')\n",
    "display(ConservationOfCharge.get_formula())\n",
    "print('整理后得到:')\n",
    "display(ConservationOfCharge.get_formulafor(rhodivt))"
   ]
  },
  {
   "attachments": {},
   "cell_type": "markdown",
   "metadata": {},
   "source": [
    "## 泊肃叶定律"
   ]
  },
  {
   "cell_type": "code",
   "execution_count": 7,
   "metadata": {},
   "outputs": [
    {
     "name": "stdout",
     "output_type": "stream",
     "text": [
      "输出的表达式为:\n"
     ]
    },
    {
     "data": {
      "text/latex": [
       "$\\displaystyle \\frac{\\frac{\\Delta p}{\\Delta l} r^{4}}{Q \\eta} = C$"
      ],
      "text/plain": [
       "Eq(\\frac{\\Delta p}{\\Delta l}*r**4/(Q*eta), C)"
      ]
     },
     "metadata": {},
     "output_type": "display_data"
    },
    {
     "name": "stdout",
     "output_type": "stream",
     "text": [
      "流量的表达式为:\n"
     ]
    },
    {
     "data": {
      "text/latex": [
       "$\\displaystyle Q = \\frac{\\frac{\\Delta p}{\\Delta l} r^{4}}{C \\eta}$"
      ],
      "text/plain": [
       "Eq(Q, \\frac{\\Delta p}{\\Delta l}*r**4/(C*eta))"
      ]
     },
     "metadata": {},
     "output_type": "display_data"
    }
   ],
   "source": [
    "r=Dimanaly.DimVar('r',L=1)\n",
    "Q=Dimanaly.DimVar('Q',L=3,T=-1)\n",
    "pdivl=Dimanaly.DimVar('\\\\frac{\\Delta p}{\\Delta l}')\n",
    "# pdivl=Dimanaly.DimVar('\\Delta p/\\Delta l')\n",
    "pdivl.change_dimdic({'p':1,'l':-1})\n",
    "PoiseuilleLaw=Dimanaly.DimFormula([r,pdivl,Q,'eta'])\n",
    "print('输出的表达式为:')\n",
    "display(PoiseuilleLaw.get_formula())\n",
    "print('流量的表达式为:')\n",
    "display(PoiseuilleLaw.get_formulafor(Q))"
   ]
  },
  {
   "attachments": {},
   "cell_type": "markdown",
   "metadata": {},
   "source": [
    "## 谐振子波函数"
   ]
  },
  {
   "cell_type": "code",
   "execution_count": 13,
   "metadata": {},
   "outputs": [
    {
     "data": {
      "text/latex": [
       "$\\displaystyle \\frac{\\mu \\omega x^{2}}{\\hbar} = C$"
      ],
      "text/plain": [
       "Eq(mu*omega*x**2/hbar, C)"
      ]
     },
     "execution_count": 13,
     "metadata": {},
     "output_type": "execute_result"
    }
   ],
   "source": [
    "x=Dimanaly.DimVar('x',L=1)\n",
    "omega=Dimanaly.DimVar('omega',T=-1)\n",
    "mu=Dimanaly.DimVar('mu',M=1)\n",
    "HarmonicOscillator=Dimanaly.DimFormula([x,omega,mu,'hbar'])#放在前面的量更容易出现在分子上\n",
    "HarmonicOscillator.get_formula()"
   ]
  },
  {
   "attachments": {},
   "cell_type": "markdown",
   "metadata": {},
   "source": [
    "## 氢原子"
   ]
  },
  {
   "cell_type": "code",
   "execution_count": 14,
   "metadata": {},
   "outputs": [
    {
     "data": {
      "text/latex": [
       "$\\displaystyle \\frac{e^{2} \\mu r}{\\epsilon_{0} \\hbar^{2}} = \\Pi{\\left(\\frac{\\hbar^{2}}{E \\mu r^{2}} \\right)}$"
      ],
      "text/plain": [
       "Eq(e**2*mu*r/(epsilon_0*hbar**2), \\Pi(hbar**2/(E*mu*r**2)))"
      ]
     },
     "metadata": {},
     "output_type": "display_data"
    }
   ],
   "source": [
    "r=Dimanaly.DimVar('r',L=1)\n",
    "mu=Dimanaly.DimVar('mu',M=1)\n",
    "E=Dimanaly.DimVar('E',use_database_byname='W')\n",
    "Hydrogen=Dimanaly.DimFormula(['hbar','e',r,mu,'epsilon_0',E])\n",
    "display(Hydrogen.get_formula())\n",
    "# expr,solution=Hydrogen.get_formulafor(r)\n",
    "# display(expr)"
   ]
  },
  {
   "attachments": {},
   "cell_type": "markdown",
   "metadata": {},
   "source": [
    "## 弹性球的撞击形变"
   ]
  },
  {
   "cell_type": "code",
   "execution_count": 5,
   "metadata": {},
   "outputs": [
    {
     "data": {
      "text/latex": [
       "$\\displaystyle \\Pi{\\left(\\frac{d}{D},\\frac{\\rho_{m} v^{2}}{Y},\\frac{1}{\\gamma} \\right)} = 0$"
      ],
      "text/plain": [
       "Eq(\\Pi(d/D, rho_m*v**2/Y, 1/gamma), 0)"
      ]
     },
     "execution_count": 5,
     "metadata": {},
     "output_type": "execute_result"
    }
   ],
   "source": [
    "d=Dimanaly.DimVar('d',L=1)\n",
    "D=Dimanaly.DimVar('D',L=1)\n",
    "v=Dimanaly.DimVar('v',use_database_byname='c')\n",
    "Y=Dimanaly.DimVar('Y',M=1,L=-1,T=-2)\n",
    "gamma=Dimanaly.DimVar('gamma')\n",
    "ImpactDeformation=Dimanaly.DimFormula([d,D,v,'rho_m',Y,gamma])\n",
    "ImpactDeformation.get_formula()"
   ]
  },
  {
   "cell_type": "code",
   "execution_count": 6,
   "metadata": {},
   "outputs": [
    {
     "data": {
      "text/html": [
       "<div>\n",
       "<style scoped>\n",
       "    .dataframe tbody tr th:only-of-type {\n",
       "        vertical-align: middle;\n",
       "    }\n",
       "\n",
       "    .dataframe tbody tr th {\n",
       "        vertical-align: top;\n",
       "    }\n",
       "\n",
       "    .dataframe thead th {\n",
       "        text-align: right;\n",
       "    }\n",
       "</style>\n",
       "<table border=\"1\" class=\"dataframe\">\n",
       "  <thead>\n",
       "    <tr style=\"text-align: right;\">\n",
       "      <th></th>\n",
       "      <th>d</th>\n",
       "      <th>D</th>\n",
       "      <th>v</th>\n",
       "      <th>rho_m</th>\n",
       "      <th>Y</th>\n",
       "      <th>gamma</th>\n",
       "    </tr>\n",
       "  </thead>\n",
       "  <tbody>\n",
       "    <tr>\n",
       "      <th>L</th>\n",
       "      <td>1.0</td>\n",
       "      <td>1.0</td>\n",
       "      <td>1.0</td>\n",
       "      <td>-3.0</td>\n",
       "      <td>-1.0</td>\n",
       "      <td>0.0</td>\n",
       "    </tr>\n",
       "    <tr>\n",
       "      <th>M</th>\n",
       "      <td>0.0</td>\n",
       "      <td>0.0</td>\n",
       "      <td>0.0</td>\n",
       "      <td>1.0</td>\n",
       "      <td>1.0</td>\n",
       "      <td>0.0</td>\n",
       "    </tr>\n",
       "    <tr>\n",
       "      <th>T</th>\n",
       "      <td>0.0</td>\n",
       "      <td>0.0</td>\n",
       "      <td>-1.0</td>\n",
       "      <td>0.0</td>\n",
       "      <td>-2.0</td>\n",
       "      <td>0.0</td>\n",
       "    </tr>\n",
       "    <tr>\n",
       "      <th>value_of_SI</th>\n",
       "      <td>NaN</td>\n",
       "      <td>NaN</td>\n",
       "      <td>299800000.0</td>\n",
       "      <td>NaN</td>\n",
       "      <td>NaN</td>\n",
       "      <td>NaN</td>\n",
       "    </tr>\n",
       "  </tbody>\n",
       "</table>\n",
       "</div>"
      ],
      "text/plain": [
       "               d    D            v  rho_m    Y  gamma\n",
       "L            1.0  1.0          1.0   -3.0 -1.0    0.0\n",
       "M            0.0  0.0          0.0    1.0  1.0    0.0\n",
       "T            0.0  0.0         -1.0    0.0 -2.0    0.0\n",
       "value_of_SI  NaN  NaN  299800000.0    NaN  NaN    NaN"
      ]
     },
     "metadata": {},
     "output_type": "display_data"
    },
    {
     "data": {
      "text/html": [
       "<div>\n",
       "<style scoped>\n",
       "    .dataframe tbody tr th:only-of-type {\n",
       "        vertical-align: middle;\n",
       "    }\n",
       "\n",
       "    .dataframe tbody tr th {\n",
       "        vertical-align: top;\n",
       "    }\n",
       "\n",
       "    .dataframe thead th {\n",
       "        text-align: right;\n",
       "    }\n",
       "</style>\n",
       "<table border=\"1\" class=\"dataframe\">\n",
       "  <thead>\n",
       "    <tr style=\"text-align: right;\">\n",
       "      <th></th>\n",
       "      <th>d</th>\n",
       "      <th>v</th>\n",
       "      <th>rho_m</th>\n",
       "    </tr>\n",
       "  </thead>\n",
       "  <tbody>\n",
       "    <tr>\n",
       "      <th>L</th>\n",
       "      <td>1.0</td>\n",
       "      <td>1.0</td>\n",
       "      <td>-3.0</td>\n",
       "    </tr>\n",
       "    <tr>\n",
       "      <th>M</th>\n",
       "      <td>0.0</td>\n",
       "      <td>0.0</td>\n",
       "      <td>1.0</td>\n",
       "    </tr>\n",
       "    <tr>\n",
       "      <th>T</th>\n",
       "      <td>0.0</td>\n",
       "      <td>-1.0</td>\n",
       "      <td>0.0</td>\n",
       "    </tr>\n",
       "    <tr>\n",
       "      <th>I</th>\n",
       "      <td>0.0</td>\n",
       "      <td>0.0</td>\n",
       "      <td>0.0</td>\n",
       "    </tr>\n",
       "    <tr>\n",
       "      <th>Theta</th>\n",
       "      <td>0.0</td>\n",
       "      <td>0.0</td>\n",
       "      <td>0.0</td>\n",
       "    </tr>\n",
       "    <tr>\n",
       "      <th>n</th>\n",
       "      <td>0.0</td>\n",
       "      <td>0.0</td>\n",
       "      <td>0.0</td>\n",
       "    </tr>\n",
       "    <tr>\n",
       "      <th>J</th>\n",
       "      <td>0.0</td>\n",
       "      <td>0.0</td>\n",
       "      <td>0.0</td>\n",
       "    </tr>\n",
       "  </tbody>\n",
       "</table>\n",
       "</div>"
      ],
      "text/plain": [
       "         d    v  rho_m\n",
       "L      1.0  1.0   -3.0\n",
       "M      0.0  0.0    1.0\n",
       "T      0.0 -1.0    0.0\n",
       "I      0.0  0.0    0.0\n",
       "Theta  0.0  0.0    0.0\n",
       "n      0.0  0.0    0.0\n",
       "J      0.0  0.0    0.0"
      ]
     },
     "metadata": {},
     "output_type": "display_data"
    },
    {
     "data": {
      "text/html": [
       "<div>\n",
       "<style scoped>\n",
       "    .dataframe tbody tr th:only-of-type {\n",
       "        vertical-align: middle;\n",
       "    }\n",
       "\n",
       "    .dataframe tbody tr th {\n",
       "        vertical-align: top;\n",
       "    }\n",
       "\n",
       "    .dataframe thead th {\n",
       "        text-align: right;\n",
       "    }\n",
       "</style>\n",
       "<table border=\"1\" class=\"dataframe\">\n",
       "  <thead>\n",
       "    <tr style=\"text-align: right;\">\n",
       "      <th></th>\n",
       "      <th>D</th>\n",
       "      <th>Y</th>\n",
       "      <th>gamma</th>\n",
       "    </tr>\n",
       "  </thead>\n",
       "  <tbody>\n",
       "    <tr>\n",
       "      <th>L</th>\n",
       "      <td>1.0</td>\n",
       "      <td>-1.0</td>\n",
       "      <td>0.0</td>\n",
       "    </tr>\n",
       "    <tr>\n",
       "      <th>M</th>\n",
       "      <td>0.0</td>\n",
       "      <td>1.0</td>\n",
       "      <td>0.0</td>\n",
       "    </tr>\n",
       "    <tr>\n",
       "      <th>T</th>\n",
       "      <td>0.0</td>\n",
       "      <td>-2.0</td>\n",
       "      <td>0.0</td>\n",
       "    </tr>\n",
       "    <tr>\n",
       "      <th>I</th>\n",
       "      <td>0.0</td>\n",
       "      <td>0.0</td>\n",
       "      <td>0.0</td>\n",
       "    </tr>\n",
       "    <tr>\n",
       "      <th>Theta</th>\n",
       "      <td>0.0</td>\n",
       "      <td>0.0</td>\n",
       "      <td>0.0</td>\n",
       "    </tr>\n",
       "    <tr>\n",
       "      <th>n</th>\n",
       "      <td>0.0</td>\n",
       "      <td>0.0</td>\n",
       "      <td>0.0</td>\n",
       "    </tr>\n",
       "    <tr>\n",
       "      <th>J</th>\n",
       "      <td>0.0</td>\n",
       "      <td>0.0</td>\n",
       "      <td>0.0</td>\n",
       "    </tr>\n",
       "  </tbody>\n",
       "</table>\n",
       "</div>"
      ],
      "text/plain": [
       "         D    Y  gamma\n",
       "L      1.0 -1.0    0.0\n",
       "M      0.0  1.0    0.0\n",
       "T      0.0 -2.0    0.0\n",
       "I      0.0  0.0    0.0\n",
       "Theta  0.0  0.0    0.0\n",
       "n      0.0  0.0    0.0\n",
       "J      0.0  0.0    0.0"
      ]
     },
     "metadata": {},
     "output_type": "display_data"
    },
    {
     "data": {
      "text/plain": [
       "[d/D, rho_m*v**2/Y, 1/gamma]"
      ]
     },
     "metadata": {},
     "output_type": "display_data"
    }
   ],
   "source": [
    "display(ImpactDeformation.get_dimmat())\n",
    "display(ImpactDeformation.get_indegroup()[0])\n",
    "display(ImpactDeformation.get_othergroup()[0])\n",
    "display(ImpactDeformation.get_Pilist())"
   ]
  },
  {
   "cell_type": "code",
   "execution_count": null,
   "metadata": {},
   "outputs": [],
   "source": [
    "tmp=Dimanaly.DimVar(use_database_byname='电.*量',regex=True)\n",
    "tmp.get_spsymbol()"
   ]
  },
  {
   "attachments": {},
   "cell_type": "markdown",
   "metadata": {},
   "source": [
    "## 检查公式的正确性"
   ]
  },
  {
   "cell_type": "code",
   "execution_count": 2,
   "metadata": {},
   "outputs": [
    {
     "name": "stdout",
     "output_type": "stream",
     "text": [
      "the formula is dimensionally correct\n"
     ]
    }
   ],
   "source": [
    "dimseries,dimvarlist=Dimanaly.is_true({'t':-1,'l':0.5,'g':-0.5})"
   ]
  },
  {
   "cell_type": "code",
   "execution_count": null,
   "metadata": {},
   "outputs": [],
   "source": []
  },
  {
   "attachments": {},
   "cell_type": "markdown",
   "metadata": {},
   "source": [
    "# 参考文献\n",
    "1. [郑伟谋.量纲分析和量纲制[J].物理,2021,50(12):797-811.](http://www.wuli.ac.cn/cn/article/doi/10.7693/wl20211202)\n",
    "2. 梁灿彬,曹周健.量纲理论与应用.北京:科学出版社.2020"
   ]
  }
 ],
 "metadata": {
  "kernelspec": {
   "display_name": "Python 3",
   "language": "python",
   "name": "python3"
  },
  "language_info": {
   "codemirror_mode": {
    "name": "ipython",
    "version": 3
   },
   "file_extension": ".py",
   "mimetype": "text/x-python",
   "name": "python",
   "nbconvert_exporter": "python",
   "pygments_lexer": "ipython3",
   "version": "3.10.5"
  },
  "orig_nbformat": 4,
  "vscode": {
   "interpreter": {
    "hash": "27f6fea6f47ae512550f0b8facdbd035a93e1dd89633f7bf2dd00a2502c71d0d"
   }
  }
 },
 "nbformat": 4,
 "nbformat_minor": 2
}
