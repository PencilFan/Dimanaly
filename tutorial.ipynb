{
 "cells": [
  {
   "attachments": {},
   "cell_type": "markdown",
   "metadata": {},
   "source": [
    "# Tutorial\n",
    "目录\n",
    "* 最简单的常数\n",
    "* DimFormula对象\n",
    "* DimVar对象\n",
    "* 检查公式在量纲上是否正确"
   ]
  },
  {
   "attachments": {},
   "cell_type": "markdown",
   "metadata": {},
   "source": [
    "引入模块"
   ]
  },
  {
   "cell_type": "code",
   "execution_count": 2,
   "metadata": {},
   "outputs": [],
   "source": [
    "import Dimanaly as da\n",
    "import sympy as sp"
   ]
  },
  {
   "attachments": {},
   "cell_type": "markdown",
   "metadata": {},
   "source": [
    "# 最简单的尝试\n",
    "<br>我们可以便捷地只用两行代码得到一个无纲量的表达式"
   ]
  },
  {
   "cell_type": "code",
   "execution_count": 36,
   "metadata": {},
   "outputs": [
    {
     "data": {
      "text/latex": [
       "$\\displaystyle \\frac{\\sqrt{c} \\sqrt{\\epsilon_{0}} \\sqrt{\\hbar}}{e} = C$"
      ],
      "text/plain": [
       "Eq(sqrt(c)*sqrt(epsilon_0)*sqrt(hbar)/e, C)"
      ]
     },
     "execution_count": 36,
     "metadata": {},
     "output_type": "execute_result"
    }
   ],
   "source": [
    "AlphaConstant=da.DimFormula(['hbar','epsilon_0','c','e'])#创建量纲公式对象(DimFormula)\n",
    "AlphaConstant.get_formula()#调用get_formula()方法得到由无量纲量构成的等式"
   ]
  },
  {
   "attachments": {},
   "cell_type": "markdown",
   "metadata": {},
   "source": [
    "# DimFormula对象\n",
    "&emsp;&emsp;创建公式对象(DimFormula)时需要输入物理量的量纲列表,列表中的元素可以是字符或量纲变量(下面会讲到使用DimVar()创建量纲变量对象),字符可以是符号(如上示例)、中文名、英文名或数值等数据库中含有的信息,程序会在数据库中查找该字符的信息并自动把它创建为量纲变量,用户可以选择是否使用正则表达式查找.\n",
    "<br>&emsp;&emsp;无论是使用正则表达式还是使用非正则表达式,程序只会返回第一个满足条件的变量,第一个指从最左方的列起至最右方的列中的第一个含目标变量的列,然后再提取该列中从上往下第一个满足条件的变量,因为考虑到人们更习惯于使用物理量符号来代表一个物理量,如果使用正则表达式查找的话物理量符号容易与物理量的英文名混淆,因此默认使用非正则表达式也就是使用完全匹配的方式进行查找."
   ]
  },
  {
   "attachments": {},
   "cell_type": "markdown",
   "metadata": {},
   "source": [
    "字符可以是中文名、英文名或数值等数据库中含有的信息"
   ]
  },
  {
   "cell_type": "code",
   "execution_count": 37,
   "metadata": {},
   "outputs": [
    {
     "data": {
      "text/latex": [
       "$\\displaystyle \\frac{\\sqrt{c} \\sqrt{\\epsilon_{0}} \\sqrt{\\hbar}}{e} = C$"
      ],
      "text/plain": [
       "Eq(sqrt(c)*sqrt(epsilon_0)*sqrt(hbar)/e, C)"
      ]
     },
     "execution_count": 37,
     "metadata": {},
     "output_type": "execute_result"
    }
   ],
   "source": [
    "AlphaConstant=da.DimFormula(['约化普朗克常数','epsilon_0','c','e'])#创建量纲公式对象(DimFormula)\n",
    "AlphaConstant.get_formula()#调用get_formula()方法得到由无量纲量构成的等式"
   ]
  },
  {
   "attachments": {},
   "cell_type": "markdown",
   "metadata": {},
   "source": [
    "对于不同的自由度,输出的公式形式是不同的,对于自由度为一、二、三及其以上的公式,输出的形式分别如下所示(具体情况可见demonstration.ipynb文件):\n",
    "$$\\frac{\\sqrt{l}}{T \\sqrt{g}}=\\Pi\\left(\\frac{g l m}{E}\\right)$$\n",
    "$$\\Pi\\left(\\frac{d}{D}, \\frac{\\rho_{m} v^{2}}{Y}, \\frac{1}{\\gamma}\\right)=0$$\n",
    "$$\\Pi\\left(\\frac{d h}{\\kappa}, \\frac{\\mu}{d \\rho v}, \\frac{\\kappa}{c \\mu}, \\frac{v^{2}}{c \\theta}, \\frac{v}{\\kappa l^{2}}, \\frac{l}{d}\\right)=0$$"
   ]
  },
  {
   "attachments": {},
   "cell_type": "markdown",
   "metadata": {},
   "source": [
    "可以通过传入关键字参数来设置sympy的符号属性,默认取正,也就是positive_autovar=True"
   ]
  },
  {
   "cell_type": "code",
   "execution_count": 38,
   "metadata": {},
   "outputs": [
    {
     "name": "stdout",
     "output_type": "stream",
     "text": [
      "默认为正的情况下对等式左方取对数后展开\n"
     ]
    },
    {
     "data": {
      "text/latex": [
       "$\\displaystyle \\frac{\\log{\\left(c \\right)}}{2} - \\log{\\left(e \\right)} + \\frac{\\log{\\left(\\epsilon_{0} \\right)}}{2} + \\frac{\\log{\\left(\\hbar \\right)}}{2}$"
      ],
      "text/plain": [
       "log(c)/2 - log(e) + log(epsilon_0)/2 + log(hbar)/2"
      ]
     },
     "metadata": {},
     "output_type": "display_data"
    },
    {
     "name": "stdout",
     "output_type": "stream",
     "text": [
      "设置为非正的情况下对等式左方取对数后展开\n"
     ]
    },
    {
     "data": {
      "text/latex": [
       "$\\displaystyle \\log{\\left(\\frac{\\sqrt{c} \\sqrt{\\epsilon_{0}} \\sqrt{\\hbar}}{e} \\right)}$"
      ],
      "text/plain": [
       "log(sqrt(c)*sqrt(epsilon_0)*sqrt(hbar)/e)"
      ]
     },
     "metadata": {},
     "output_type": "display_data"
    }
   ],
   "source": [
    "AlphaConstant2=da.DimFormula(['hbar','epsilon_0','c','e'],positive_autovar=False)\n",
    "lhs=AlphaConstant.get_formula().lhs\n",
    "lhs2=AlphaConstant2.get_formula().lhs\n",
    "print('默认为正的情况下对等式左方取对数后展开')\n",
    "display(sp.expand(sp.log(lhs)))\n",
    "print('设置为非正的情况下对等式左方取对数后展开')\n",
    "display(sp.expand(sp.log(lhs2)))"
   ]
  },
  {
   "attachments": {},
   "cell_type": "markdown",
   "metadata": {},
   "source": [
    "通过设置regex=True()可以选择使用正则表达式查找,这时只要中英文名、符号等含有给定的字符(不必全匹配)即找到到目标变量"
   ]
  },
  {
   "cell_type": "code",
   "execution_count": 3,
   "metadata": {},
   "outputs": [
    {
     "data": {
      "text/latex": [
       "$\\displaystyle \\frac{\\sqrt{c} \\sqrt{\\epsilon_{0}} \\sqrt{\\hbar}}{e} = C$"
      ],
      "text/plain": [
       "Eq(sqrt(c)*sqrt(epsilon_0)*sqrt(hbar)/e, C)"
      ]
     },
     "execution_count": 3,
     "metadata": {},
     "output_type": "execute_result"
    }
   ],
   "source": [
    "AlphaConstant=da.DimFormula(['hbar','epsilon_0','光.*速','电.*电量'],regex=True)\n",
    "formula=AlphaConstant.get_formula()\n",
    "formula"
   ]
  },
  {
   "attachments": {},
   "cell_type": "markdown",
   "metadata": {},
   "source": [
    "为求得等式左方的数值,我们可以使用get_formulavalue()方法将有值变量全部替换为给定的数值"
   ]
  },
  {
   "cell_type": "code",
   "execution_count": 3,
   "metadata": {},
   "outputs": [
    {
     "data": {
      "text/latex": [
       "$\\displaystyle 3.30262179735227 = C$"
      ],
      "text/plain": [
       "Eq(3.30262179735227, C)"
      ]
     },
     "execution_count": 3,
     "metadata": {},
     "output_type": "execute_result"
    }
   ],
   "source": [
    "AlphaConstant.get_formulavalue()"
   ]
  },
  {
   "attachments": {},
   "cell_type": "markdown",
   "metadata": {},
   "source": [
    "&emsp;&emsp;在求解数值时也可以灵活地使用Dimanaly模块中的subs_symbol()方法,subs_symbols()方法传入一个符号表达式,将传入的符号表达式中的符号用传入的dimvar变量列表(dimvarlist)中dimvar变量所绑定的数值或sympy符号进行替换,然后返回替换后的结果,用户可以选择将符号替换为绑定的数据或是量纲变量的sympy符号(默认替换数值)\n",
    "<br>&emsp;&emsp;若想批量替换多个符号表达式,可以使用subs_symbol_list()方法,该方法传入的是符合表达式列表,返回的也是替换后的结果列表,其余都与sub_symbols()方法相同"
   ]
  },
  {
   "cell_type": "code",
   "execution_count": 5,
   "metadata": {},
   "outputs": [
    {
     "data": {
      "text/latex": [
       "$\\displaystyle \\frac{e^{2}}{4 \\pi c \\epsilon_{0} \\hbar}$"
      ],
      "text/plain": [
       "e**2/(4*pi*c*epsilon_0*hbar)"
      ]
     },
     "metadata": {},
     "output_type": "display_data"
    },
    {
     "data": {
      "text/latex": [
       "$\\displaystyle 137.065309118907$"
      ],
      "text/plain": [
       "137.065309118907"
      ]
     },
     "execution_count": 5,
     "metadata": {},
     "output_type": "execute_result"
    }
   ],
   "source": [
    "inverse_alpha=formula.lhs**2*4*sp.pi#得到精细结构常数的倒数表达式\n",
    "display(1/inverse_alpha)#精细结构常数的表达式\n",
    "dimvarlist=AlphaConstant.get_dimvarlist()#提取与AlphaConstant对象绑定的dimvarlist属性\n",
    "result=da.subs_symbol(inverse_alpha,dimvarlist)#使用subs_symbols()方法用数值替换掉其中的符号\n",
    "result.evalf()#将sympy中的pi取数值"
   ]
  },
  {
   "attachments": {},
   "cell_type": "markdown",
   "metadata": {},
   "source": [
    "&emsp;&emsp;若想得到关于某一物理量的表达式可以使用get_formulafor()方法,不过这个方法仅支持一个或两个自由度的情况(对于两个自由度的情况,目标变量应在函数外),该方法基于sympy模块中的solve()方法,考虑到关于某个自变量的解可能不止一个,在这里只返回第一个解,用户可以改变choose_result参数选择返回的解(默认choose_result=0),也可以在使用该方法后从生成的self.solutions属性中查询全部的解"
   ]
  },
  {
   "cell_type": "code",
   "execution_count": 42,
   "metadata": {},
   "outputs": [
    {
     "data": {
      "text/latex": [
       "$\\displaystyle e = \\frac{\\sqrt{c} \\sqrt{\\epsilon_{0}} \\sqrt{\\hbar}}{C}$"
      ],
      "text/plain": [
       "Eq(e, sqrt(c)*sqrt(epsilon_0)*sqrt(hbar)/C)"
      ]
     },
     "execution_count": 42,
     "metadata": {},
     "output_type": "execute_result"
    }
   ],
   "source": [
    "AlphaConstant.get_formulafor('e')"
   ]
  },
  {
   "attachments": {},
   "cell_type": "markdown",
   "metadata": {},
   "source": [
    "&emsp;&emsp;创建好DimFormula对象之后,我们可以使用get_dimvardic()得到一个由量纲变量组成的字典,字典的键是量纲变量的符号,字典的值是量纲变量,这样用户可以从量纲变量中得到该变量的符号、数值、量纲等全部信息"
   ]
  },
  {
   "cell_type": "code",
   "execution_count": 43,
   "metadata": {},
   "outputs": [
    {
     "data": {
      "text/plain": [
       "{'c': <Dimanaly.DimVar at 0x24b33433a90>,\n",
       " 'hbar': <Dimanaly.DimVar at 0x24b33ddada0>,\n",
       " 'epsilon_0': <Dimanaly.DimVar at 0x24b339cbf40>,\n",
       " 'e': <Dimanaly.DimVar at 0x24b31daf250>}"
      ]
     },
     "execution_count": 43,
     "metadata": {},
     "output_type": "execute_result"
    }
   ],
   "source": [
    "AlphaConstant.get_dimvardic()"
   ]
  },
  {
   "attachments": {},
   "cell_type": "markdown",
   "metadata": {},
   "source": [
    "为方便查看量纲变量的量纲矩阵,可以使用get_dimmat()方法,得到一个列表,此列表的最后一行是变量的数值信息,其余行是变量的量纲信息"
   ]
  },
  {
   "cell_type": "code",
   "execution_count": 44,
   "metadata": {},
   "outputs": [
    {
     "data": {
      "text/html": [
       "<div>\n",
       "<style scoped>\n",
       "    .dataframe tbody tr th:only-of-type {\n",
       "        vertical-align: middle;\n",
       "    }\n",
       "\n",
       "    .dataframe tbody tr th {\n",
       "        vertical-align: top;\n",
       "    }\n",
       "\n",
       "    .dataframe thead th {\n",
       "        text-align: right;\n",
       "    }\n",
       "</style>\n",
       "<table border=\"1\" class=\"dataframe\">\n",
       "  <thead>\n",
       "    <tr style=\"text-align: right;\">\n",
       "      <th></th>\n",
       "      <th>hbar</th>\n",
       "      <th>epsilon_0</th>\n",
       "      <th>c</th>\n",
       "      <th>e</th>\n",
       "    </tr>\n",
       "  </thead>\n",
       "  <tbody>\n",
       "    <tr>\n",
       "      <th>L</th>\n",
       "      <td>2.000000e+00</td>\n",
       "      <td>-3.000000e+00</td>\n",
       "      <td>1.0</td>\n",
       "      <td>0.000000e+00</td>\n",
       "    </tr>\n",
       "    <tr>\n",
       "      <th>M</th>\n",
       "      <td>1.000000e+00</td>\n",
       "      <td>-1.000000e+00</td>\n",
       "      <td>0.0</td>\n",
       "      <td>0.000000e+00</td>\n",
       "    </tr>\n",
       "    <tr>\n",
       "      <th>T</th>\n",
       "      <td>-1.000000e+00</td>\n",
       "      <td>4.000000e+00</td>\n",
       "      <td>-1.0</td>\n",
       "      <td>1.000000e+00</td>\n",
       "    </tr>\n",
       "    <tr>\n",
       "      <th>I</th>\n",
       "      <td>0.000000e+00</td>\n",
       "      <td>2.000000e+00</td>\n",
       "      <td>0.0</td>\n",
       "      <td>1.000000e+00</td>\n",
       "    </tr>\n",
       "    <tr>\n",
       "      <th>value_of_SI</th>\n",
       "      <td>1.054561e-34</td>\n",
       "      <td>8.854000e-12</td>\n",
       "      <td>299800000.0</td>\n",
       "      <td>1.602000e-19</td>\n",
       "    </tr>\n",
       "  </tbody>\n",
       "</table>\n",
       "</div>"
      ],
      "text/plain": [
       "                     hbar     epsilon_0            c             e\n",
       "L            2.000000e+00 -3.000000e+00          1.0  0.000000e+00\n",
       "M            1.000000e+00 -1.000000e+00          0.0  0.000000e+00\n",
       "T           -1.000000e+00  4.000000e+00         -1.0  1.000000e+00\n",
       "I            0.000000e+00  2.000000e+00          0.0  1.000000e+00\n",
       "value_of_SI  1.054561e-34  8.854000e-12  299800000.0  1.602000e-19"
      ]
     },
     "execution_count": 44,
     "metadata": {},
     "output_type": "execute_result"
    }
   ],
   "source": [
    "AlphaConstant.get_dimmat()"
   ]
  },
  {
   "attachments": {},
   "cell_type": "markdown",
   "metadata": {},
   "source": [
    "# DimVar对象"
   ]
  },
  {
   "attachments": {},
   "cell_type": "markdown",
   "metadata": {},
   "source": [
    "&emsp;&emsp;对于数据库中没有的变量,用户可以使用DimVar()自定义量纲变量,并传入它的量纲(默认所有量纲都为零)\n",
    "<br>&emsp;&emsp;在定义的同时可以传入该变量的符号(默认为None)、SI单位制下的值(默认为零)、sympy符号的属性(默认为正,因为这样便于化简)\n",
    "<br>&emsp;&emsp;在创建量纲变量后可以使用get_dimdic()方法获得量纲字典，使用get_dimseries()方法获得量纲序列，使用get_symbol()方法获得变量的字符符号,使用get_spsymbol()方法获得该变量的sympy符号,get_value_of_SI()获得该量在SI单位制下的值"
   ]
  },
  {
   "cell_type": "code",
   "execution_count": 45,
   "metadata": {},
   "outputs": [
    {
     "name": "stdout",
     "output_type": "stream",
     "text": [
      "量纲字典为:\n"
     ]
    },
    {
     "data": {
      "text/plain": [
       "{'L': 1, 'M': 0.0, 'T': 0.0, 'I': 0.0, 'Theta': 0.0, 'n': 0.0, 'J': 0.0}"
      ]
     },
     "metadata": {},
     "output_type": "display_data"
    },
    {
     "name": "stdout",
     "output_type": "stream",
     "text": [
      "量纲序列为:\n"
     ]
    },
    {
     "data": {
      "text/plain": [
       "L        1.0\n",
       "M        0.0\n",
       "T        0.0\n",
       "I        0.0\n",
       "Theta    0.0\n",
       "n        0.0\n",
       "J        0.0\n",
       "dtype: float64"
      ]
     },
     "metadata": {},
     "output_type": "display_data"
    },
    {
     "name": "stdout",
     "output_type": "stream",
     "text": [
      "字符符号为:\n"
     ]
    },
    {
     "data": {
      "text/plain": [
       "'l'"
      ]
     },
     "metadata": {},
     "output_type": "display_data"
    },
    {
     "data": {
      "text/plain": [
       "'sympy符号为:'"
      ]
     },
     "metadata": {},
     "output_type": "display_data"
    },
    {
     "data": {
      "text/latex": [
       "$\\displaystyle l$"
      ],
      "text/plain": [
       "l"
      ]
     },
     "metadata": {},
     "output_type": "display_data"
    },
    {
     "name": "stdout",
     "output_type": "stream",
     "text": [
      "SI单位制下的值为:\n"
     ]
    },
    {
     "data": {
      "text/plain": [
       "1"
      ]
     },
     "metadata": {},
     "output_type": "display_data"
    }
   ],
   "source": [
    "l=da.DimVar('l',L=1,value_of_SI=1)\n",
    "print('量纲字典为:')\n",
    "display(l.get_dimdic())\n",
    "print('量纲序列为:')\n",
    "display(l.get_dimseries())\n",
    "print('字符符号为:')\n",
    "spsymbol=l.get_symbol()\n",
    "display(spsymbol)\n",
    "display('sympy符号为:')\n",
    "display(l.get_spsymbol())\n",
    "print('SI单位制下的值为:')\n",
    "display(l.get_value_of_SI())"
   ]
  },
  {
   "attachments": {},
   "cell_type": "markdown",
   "metadata": {},
   "source": [
    "&emsp;&emsp;若想定义的变量的量纲与数据库中的某个量的量纲相同,可以通过设置use_database_byname参数传入数据库中有关那个变量的信息,这些信息同样也可以是符号、中英文名、数值等数据库中存在的信息,程序会根据这些信息自动在数据库中查找并利用找到的信息自动为量纲变量设置符号、量纲、值等相关信息，若符号、值的信息已经被用户设置好了,那么就会使用用户设置的信息,而未设置的信息仍从数据库中提取"
   ]
  },
  {
   "cell_type": "code",
   "execution_count": 46,
   "metadata": {},
   "outputs": [
    {
     "data": {
      "text/plain": [
       "L        2\n",
       "M        1\n",
       "T       -2\n",
       "I        0\n",
       "Theta    0\n",
       "n        0\n",
       "J        0\n",
       "dtype: int64"
      ]
     },
     "execution_count": 46,
     "metadata": {},
     "output_type": "execute_result"
    }
   ],
   "source": [
    "E=da.DimVar('E',use_database_byname='energy',regex=True,positive_autovar=False,complex=False)\n",
    "E_spsymbol=E.get_spsymbol()\n",
    "E.get_dimseries()"
   ]
  },
  {
   "cell_type": "code",
   "execution_count": 47,
   "metadata": {},
   "outputs": [
    {
     "name": "stdout",
     "output_type": "stream",
     "text": [
      "False\n",
      "False\n"
     ]
    }
   ],
   "source": [
    "print(E_spsymbol.is_positive)#设置positive_autovar=False后该变量的sympy符号属性就不再为正了\n",
    "print(E_spsymbol.is_complex)#设置complex=False后该变量的sympy符号属性就不再为复数了"
   ]
  },
  {
   "attachments": {},
   "cell_type": "markdown",
   "metadata": {},
   "source": [
    "因为DimVar对象支持正则表达式,所以也可以引入re模块先编译好正则表达式后查找"
   ]
  },
  {
   "cell_type": "code",
   "execution_count": 48,
   "metadata": {},
   "outputs": [
    {
     "data": {
      "text/latex": [
       "$\\displaystyle \\hbar$"
      ],
      "text/plain": [
       "hbar"
      ]
     },
     "execution_count": 48,
     "metadata": {},
     "output_type": "execute_result"
    }
   ],
   "source": [
    "import re\n",
    "name=re.compile('HbAr',re.I)#使用re.compile编译正则表达式,修饰符re.I表示使匹配对大小写不敏感\n",
    "hbar=da.DimVar('hbar',use_database_byname=name,regex=True)\n",
    "hbar.get_spsymbol()"
   ]
  },
  {
   "attachments": {},
   "cell_type": "markdown",
   "metadata": {},
   "source": [
    "<br>&emsp;&emsp;当我们知道某些物理量与其他物理量之间的关系时,可以先创建一个量纲为零(七个量纲指数全为零)的量纲变量,然后采用Dimanaly模块中的change_dim()方法由其他物理量的量纲得到目标物理量的量纲\n",
    "<br>&emsp;&emsp;change_dim()方法传入的参数是一个字典,字典的键是量纲变量或字符(该字符能在数据库中找到,默认不适用正则表达式查找),字典的值是量纲变量所对应的量纲指数,以构造seebeck系数$\\S$、热导率$\\kappa$、电导率$\\sigma$的量纲为例示范其用法"
   ]
  },
  {
   "attachments": {},
   "cell_type": "markdown",
   "metadata": {},
   "source": [
    "根据seebeck系数的公式可以得到seebeck系数的量纲与功$W$、电荷量$e$、温度$T$的量纲之间的关系\n",
    "$$S=\\frac{\\Delta \\phi}{\\Delta T}\\Rightarrow\\left[S\\right]=\\left[\\frac{W}{eT}\\right]$$\n",
    "其中功$W$、电荷量$e$、温度$T$的量纲指数分别为1、-1、-1，下面同理\n",
    "<br>根据热导率$\\kappa$的定义`单位温度梯度单位时间内经单位导热面所传递的热量`可得热导率的量纲表达式\n",
    "$$\\left[\\kappa\\right]=\\left[\\frac{W}{t\\cdot l^2\\cdot T/l}\\right]=\\left[\\frac{W}{tlT}\\right]$$\n",
    "同理根据电导率$\\sigma$的定义`单位电势梯度电位时间内经单位面积所传递的电荷量`可得电量的量纲表达式\n",
    "$$\\left[\\sigma\\right]=\\left[\\frac{e}{t\\cdot l^2\\cdot U/l}\\right]=\\left[\\frac{e}{tlU}\\right]$$\n",
    "这样我们可以如下依次得到$s$,$\\kappa$,$\\sigma$的量纲"
   ]
  },
  {
   "cell_type": "code",
   "execution_count": 49,
   "metadata": {},
   "outputs": [
    {
     "data": {
      "text/plain": [
       "L        2\n",
       "M        1\n",
       "T       -3\n",
       "I       -1\n",
       "Theta   -1\n",
       "n        0\n",
       "J        0\n",
       "dtype: int64"
      ]
     },
     "execution_count": 49,
     "metadata": {},
     "output_type": "execute_result"
    }
   ],
   "source": [
    "S=da.DimVar('s')#初始化seebeck系数量纲,此时它的量纲为0\n",
    "S.change_dimdic({'W':1,'e':-1,'T':-1})#根据能量、电量、温度的量纲创建seebeck系数的量纲\n",
    "S.get_dimseries()#得到seebeck系数的量纲"
   ]
  },
  {
   "cell_type": "code",
   "execution_count": 50,
   "metadata": {},
   "outputs": [
    {
     "data": {
      "text/plain": [
       "L        1\n",
       "M        1\n",
       "T       -3\n",
       "I        0\n",
       "Theta   -1\n",
       "n        0\n",
       "J        0\n",
       "dtype: int64"
      ]
     },
     "execution_count": 50,
     "metadata": {},
     "output_type": "execute_result"
    }
   ],
   "source": [
    "kappa=da.DimVar('kappa')\n",
    "kappa.change_dimdic({'W':1,'t':-1,'l':-1,'T':-1})\n",
    "kappa.get_dimseries()"
   ]
  },
  {
   "cell_type": "code",
   "execution_count": 51,
   "metadata": {},
   "outputs": [
    {
     "data": {
      "text/plain": [
       "L       -3\n",
       "M       -1\n",
       "T        3\n",
       "I        2\n",
       "Theta    0\n",
       "n        0\n",
       "J        0\n",
       "dtype: int64"
      ]
     },
     "execution_count": 51,
     "metadata": {},
     "output_type": "execute_result"
    }
   ],
   "source": [
    "sigma=da.DimVar('sigma')\n",
    "sigma.change_dimdic({'e':1,'t':-1,'l':-1,'U':-1})\n",
    "sigma.get_dimseries()"
   ]
  },
  {
   "attachments": {},
   "cell_type": "markdown",
   "metadata": {},
   "source": [
    "由上述三个物理量再结合温度$T$可以构造一个关于热电发电效率的无纲量$ZT$值,也即下面输出结果中的等式右方的常数$C$\n",
    "$$ZT=\\frac{S^2\\sigma}{\\kappa}T$$"
   ]
  },
  {
   "cell_type": "code",
   "execution_count": 52,
   "metadata": {},
   "outputs": [
    {
     "data": {
      "text/latex": [
       "$\\displaystyle \\frac{T s^{2} \\sigma}{\\kappa} = C$"
      ],
      "text/plain": [
       "Eq(T*s**2*sigma/kappa, C)"
      ]
     },
     "execution_count": 52,
     "metadata": {},
     "output_type": "execute_result"
    }
   ],
   "source": [
    "Z=da.DimFormula([sigma,S,'T',kappa])\n",
    "Z.get_formula()"
   ]
  },
  {
   "attachments": {},
   "cell_type": "markdown",
   "metadata": {},
   "source": [
    "# 检查公式在量纲上是否正确\n",
    "<br>对于一个公式我们需要将它的项全部移到等式的一边去,然后使用da.is_true()方法判断这些项凑在一起是否为无量纲量,该方法会返回dimseries,dimvarlist并输出对公司正确性的判断结果\n",
    "$$T=\\sqrt{\\frac{l}{g}}\\Rightarrow C=T^{-1}l^{0.5}g^{-0.5}$$"
   ]
  },
  {
   "cell_type": "code",
   "execution_count": 53,
   "metadata": {},
   "outputs": [
    {
     "name": "stdout",
     "output_type": "stream",
     "text": [
      "the formula is dimensionally correct\n"
     ]
    }
   ],
   "source": [
    "T=da.DimVar('T',T=1)\n",
    "dimseries,dimvarlist=da.is_true({T:-1,'l':0.5,'g':-0.5})"
   ]
  },
  {
   "attachments": {},
   "cell_type": "markdown",
   "metadata": {},
   "source": [
    "因为下式是有纲量,所以判断结果会显示错误,我们可以打印返回的dimseries,dimvarlist来查看这些量凑在一起的量纲以及传入的量纲变量列表\n",
    "$$\\frac{1}{T}\\sqrt{lg}\\Rightarrow\\left[\\frac{1}{T}\\sqrt{lg}\\right]\\ne 1\\Rightarrow T\\ne\\sqrt{lg}$$"
   ]
  },
  {
   "cell_type": "code",
   "execution_count": 55,
   "metadata": {},
   "outputs": [
    {
     "name": "stdout",
     "output_type": "stream",
     "text": [
      "the formula is wrong\n"
     ]
    },
    {
     "data": {
      "text/plain": [
       "L        1.0\n",
       "M        0.0\n",
       "T       -2.0\n",
       "I        0.0\n",
       "Theta    0.0\n",
       "n        0.0\n",
       "J        0.0\n",
       "dtype: float64"
      ]
     },
     "metadata": {},
     "output_type": "display_data"
    },
    {
     "data": {
      "text/plain": [
       "[<Dimanaly.DimVar at 0x24b33f11c00>,\n",
       " <Dimanaly.DimVar at 0x24b33ec7b50>,\n",
       " <Dimanaly.DimVar at 0x24b33f29750>]"
      ]
     },
     "metadata": {},
     "output_type": "display_data"
    }
   ],
   "source": [
    "dimseries,dimvarlist=da.is_true({T:-1,'l':0.5,'g':0.5})\n",
    "display(dimseries)\n",
    "display(dimvarlist)"
   ]
  }
 ],
 "metadata": {
  "kernelspec": {
   "display_name": "Python 3",
   "language": "python",
   "name": "python3"
  },
  "language_info": {
   "codemirror_mode": {
    "name": "ipython",
    "version": 3
   },
   "file_extension": ".py",
   "mimetype": "text/x-python",
   "name": "python",
   "nbconvert_exporter": "python",
   "pygments_lexer": "ipython3",
   "version": "3.10.5"
  },
  "orig_nbformat": 4,
  "vscode": {
   "interpreter": {
    "hash": "27f6fea6f47ae512550f0b8facdbd035a93e1dd89633f7bf2dd00a2502c71d0d"
   }
  }
 },
 "nbformat": 4,
 "nbformat_minor": 2
}
