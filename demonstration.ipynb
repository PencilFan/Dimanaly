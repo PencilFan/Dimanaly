{
 "cells": [
  {
   "attachments": {},
   "cell_type": "markdown",
   "metadata": {},
   "source": [
    "# Demonstration\n",
    "## 目录\n",
    "* 得到无纲量之间的关系\n",
    "  <br>*对以下某些问题的解答可能并不严谨,主要以示范程序用法为主*\n",
    "  1. 精细结构常数\n",
    "  2. 原子的大小\n",
    "  3. 恐龙奔跑的速度\n",
    "  4. 单摆的周期\n",
    "  5. 管道流动的传热\n",
    "  6. 饮料加冰冷却\n",
    "  7. 电荷守恒定律\n",
    "  8. 泊肃叶定律\n",
    "  9. 一维量子谐振子\n",
    "  10. 一维无限深方势阱\n",
    "  11. 氢原子\n",
    "  12. 弹性球的撞击形变\n",
    "* 检查公式在量纲上是否正确\n",
    "* 参考文献"
   ]
  },
  {
   "attachments": {},
   "cell_type": "markdown",
   "metadata": {},
   "source": [
    "引入模块"
   ]
  },
  {
   "cell_type": "code",
   "execution_count": 1,
   "metadata": {},
   "outputs": [],
   "source": [
    "import Dimanaly as da\n",
    "import sympy as sp"
   ]
  },
  {
   "attachments": {},
   "cell_type": "markdown",
   "metadata": {},
   "source": [
    "## 精细结构常数\n",
    "<br>&emsp;&emsp;由代表相对论的光速$c$,代表电磁的真空电导率$\\epsilon_0$、元电荷量$e$,代表量子力学的普朗克常数或者说约化普朗克常数$\\hbar$,可以构造出一个重要的无量纲量,即精细结构常数:$$\\alpha=\\frac{e^2}{4\\pi c\\epsilon_0\\hbar}$$"
   ]
  },
  {
   "cell_type": "code",
   "execution_count": 2,
   "metadata": {},
   "outputs": [
    {
     "name": "stdout",
     "output_type": "stream",
     "text": [
      "输出为\n"
     ]
    },
    {
     "data": {
      "text/latex": [
       "$\\displaystyle \\frac{\\sqrt{c} \\sqrt{\\epsilon_{0}} \\sqrt{\\hbar}}{e} = C$"
      ],
      "text/plain": [
       "Eq(sqrt(c)*sqrt(epsilon_0)*sqrt(hbar)/e, C)"
      ]
     },
     "metadata": {},
     "output_type": "display_data"
    },
    {
     "name": "stdout",
     "output_type": "stream",
     "text": [
      "整理后的精细结构表达式\n"
     ]
    },
    {
     "data": {
      "text/latex": [
       "$\\displaystyle \\alpha = \\frac{e^{2}}{4 \\pi c \\epsilon_{0} \\hbar}$"
      ],
      "text/plain": [
       "Eq(alpha, e**2/(4*pi*c*epsilon_0*hbar))"
      ]
     },
     "execution_count": 2,
     "metadata": {},
     "output_type": "execute_result"
    }
   ],
   "source": [
    "AlphaConstant=da.DimFormula(['hbar','epsilon_0','c','e'])\n",
    "formula_AlphaConstant=AlphaConstant.get_formula()\n",
    "print('输出为')\n",
    "display(formula_AlphaConstant)\n",
    "##整理表达式\n",
    "expr_lhs=formula_AlphaConstant.lhs\n",
    "expr2=1/expr_lhs**2/(4*sp.pi)\n",
    "print('整理后的精细结构表达式')\n",
    "sp.Eq(sp.var('alpha'),expr2)"
   ]
  },
  {
   "attachments": {},
   "cell_type": "markdown",
   "metadata": {},
   "source": [
    "将上面两式中的符号替换为给定的数值,就可以得到常数$C$与精细结构常数的倒数$\\alpha^{-1}$的取值"
   ]
  },
  {
   "cell_type": "code",
   "execution_count": 3,
   "metadata": {},
   "outputs": [
    {
     "data": {
      "text/latex": [
       "$\\displaystyle 3.30226866286074 = C$"
      ],
      "text/plain": [
       "Eq(3.30226866286074, C)"
      ]
     },
     "metadata": {},
     "output_type": "display_data"
    },
    {
     "data": {
      "text/latex": [
       "$\\displaystyle \\alpha^{-1} = 137.035999132187$"
      ],
      "text/plain": [
       "Eq(alpha^-1, 137.035999132187)"
      ]
     },
     "metadata": {},
     "output_type": "display_data"
    }
   ],
   "source": [
    "display(AlphaConstant.get_formulavalue())#第一个表达式的数值结果\n",
    "value=da.subs_symbol(expr2,AlphaConstant.get_dimvarlist(),to_value=True)#第二个表达式的数值\n",
    "equ=sp.Eq(sp.Symbol('alpha^-1'),1/value.evalf())#对第二个表达式的数值取倒数\n",
    "display(equ)"
   ]
  },
  {
   "attachments": {},
   "cell_type": "markdown",
   "metadata": {},
   "source": [
    "## 原子大小\n",
    "<br>&emsp;&emsp;对于电子绕核的运动过程,电子的动力学性质由质量$m_e$描述,电子与核的电磁学性质由电荷量$e$描述,电子与核之间的电磁场相互作用由与电场相关的$\\epsilon_0$描述,但在经典电动力学中仅仅依靠这些物理量还不足以构造出一个代表电子绕核运动的特征长度量,在此基础上还需要引入光速$c$,但是光速$c$的引入可能暗示着相对论效应"
   ]
  },
  {
   "cell_type": "code",
   "execution_count": 4,
   "metadata": {},
   "outputs": [
    {
     "data": {
      "text/latex": [
       "$\\displaystyle \\frac{e^{2}}{a c^{2} \\epsilon_{0} m_{e}} = C$"
      ],
      "text/plain": [
       "Eq(e**2/(a*c**2*epsilon_0*m_e), C)"
      ]
     },
     "metadata": {},
     "output_type": "display_data"
    },
    {
     "data": {
      "text/latex": [
       "$\\displaystyle a = \\frac{e^{2}}{C c^{2} \\epsilon_{0} m_{e}}$"
      ],
      "text/plain": [
       "Eq(a, e**2/(C*c**2*epsilon_0*m_e))"
      ]
     },
     "metadata": {},
     "output_type": "display_data"
    }
   ],
   "source": [
    "a=da.DimVar('a',L=1)\n",
    "ClassiElecRadius=da.DimFormula(['m_e','c','epsilon_0','e',a])\n",
    "display(ClassiElecRadius.get_formula())\n",
    "ClassiElecRadius_a=ClassiElecRadius.get_formulafor(a)\n",
    "display(ClassiElecRadius_a)"
   ]
  },
  {
   "attachments": {},
   "cell_type": "markdown",
   "metadata": {},
   "source": [
    "令上述表达式中的$C=1$并给其他物理量赋值,可以发现此时的特征长度的数量级为$10^{-14}m$,并不合理"
   ]
  },
  {
   "cell_type": "code",
   "execution_count": 5,
   "metadata": {},
   "outputs": [
    {
     "data": {
      "text/latex": [
       "$\\displaystyle a = \\frac{e^{2}}{c^{2} \\epsilon_{0} m_{e}}$"
      ],
      "text/plain": [
       "Eq(a, e**2/(c**2*epsilon_0*m_e))"
      ]
     },
     "metadata": {},
     "output_type": "display_data"
    },
    {
     "data": {
      "text/latex": [
       "$\\displaystyle a = 3.54112824580083 \\cdot 10^{-14}$"
      ],
      "text/plain": [
       "Eq(a, 3.54112824580083e-14)"
      ]
     },
     "metadata": {},
     "output_type": "display_data"
    }
   ],
   "source": [
    "ClassiElecRadius_a2=ClassiElecRadius_a.subs('C',1)\n",
    "display(ClassiElecRadius_a2)\n",
    "value=da.subs_symbol(ClassiElecRadius_a2,ClassiElecRadius.get_dimvarlist())\n",
    "display(value.evalf())"
   ]
  },
  {
   "attachments": {},
   "cell_type": "markdown",
   "metadata": {},
   "source": [
    "若考虑引入普朗克常数而不引入光速,也可以构造一个长度量,令表达式中的常数为$1/4\\pi$即可得第一波尔半径,算得它的数值为$0.5\\times 10^{-10}m$"
   ]
  },
  {
   "cell_type": "code",
   "execution_count": 6,
   "metadata": {},
   "outputs": [
    {
     "data": {
      "text/latex": [
       "$\\displaystyle \\frac{\\epsilon_{0} \\hbar^{2}}{a e^{2} m_{e}} = C$"
      ],
      "text/plain": [
       "Eq(epsilon_0*hbar**2/(a*e**2*m_e), C)"
      ]
     },
     "metadata": {},
     "output_type": "display_data"
    },
    {
     "data": {
      "text/latex": [
       "$\\displaystyle a = \\frac{\\epsilon_{0} \\hbar^{2}}{C e^{2} m_{e}}$"
      ],
      "text/plain": [
       "Eq(a, epsilon_0*hbar**2/(C*e**2*m_e))"
      ]
     },
     "metadata": {},
     "output_type": "display_data"
    }
   ],
   "source": [
    "QuanElecRadius=da.DimFormula(['m_e','hbar','epsilon_0','e',a])\n",
    "display(QuanElecRadius.get_formula())\n",
    "QuanElecRadius_a=QuanElecRadius.get_formulafor(a)\n",
    "display(QuanElecRadius_a)"
   ]
  },
  {
   "cell_type": "code",
   "execution_count": 7,
   "metadata": {},
   "outputs": [
    {
     "data": {
      "text/latex": [
       "$\\displaystyle a = \\frac{4 \\pi \\epsilon_{0} \\hbar^{2}}{e^{2} m_{e}}$"
      ],
      "text/plain": [
       "Eq(a, 4*pi*epsilon_0*hbar**2/(e**2*m_e))"
      ]
     },
     "metadata": {},
     "output_type": "display_data"
    },
    {
     "data": {
      "text/latex": [
       "$\\displaystyle 5.29177210526763 \\cdot 10^{-11}$"
      ],
      "text/plain": [
       "5.29177210526763e-11"
      ]
     },
     "execution_count": 7,
     "metadata": {},
     "output_type": "execute_result"
    }
   ],
   "source": [
    "QuanElecRadius_a2=QuanElecRadius_a.subs('C',1/sp.pi/4)\n",
    "display(QuanElecRadius_a2)\n",
    "value=da.subs_symbol(QuanElecRadius_a2.rhs,QuanElecRadius.get_dimvarlist())\n",
    "value.evalf()"
   ]
  },
  {
   "attachments": {},
   "cell_type": "markdown",
   "metadata": {},
   "source": [
    "单位为$m$"
   ]
  },
  {
   "attachments": {},
   "cell_type": "markdown",
   "metadata": {},
   "source": [
    "## 恐龙奔跑的速度\n",
    "<br>&emsp;&emsp;来源于`参考文献2`与`参考文献5`,R. McNeill Alexander教授认为恐龙奔跑所涉及的关键量有臀高$h$、步幅$\\lambda$、奔跑速度$v$、重力加速度$g$,他通过量纲分析构造出了这几个量的关系式,然后与若干动物的相关数据比较求得了恐龙奔跑的速率为$1.0\\sim 3.6m/s$,他于1976年在《自然》杂志上发表了关于这个问题的短篇论文,下面给出这几个关键量之间满足的关系"
   ]
  },
  {
   "cell_type": "code",
   "execution_count": 8,
   "metadata": {},
   "outputs": [
    {
     "data": {
      "text/latex": [
       "$\\displaystyle \\frac{h}{\\lambda} = \\Pi{\\left(\\frac{v^{2}}{g h} \\right)}$"
      ],
      "text/plain": [
       "Eq(h/lambda, \\Pi(v**2/(g*h)))"
      ]
     },
     "execution_count": 8,
     "metadata": {},
     "output_type": "execute_result"
    }
   ],
   "source": [
    "h=da.DimVar('h',L=1)\n",
    "Lambda=da.DimVar('lambda',L=1)\n",
    "SpeedofDinosaurs=da.DimFormula([h,'v',Lambda,'g'])\n",
    "SpeedofDinosaurs.get_formula()"
   ]
  },
  {
   "attachments": {},
   "cell_type": "markdown",
   "metadata": {},
   "source": [
    "## 单摆的周期\n",
    "<br>&emsp;&emsp;构成单摆系统的对象是摆(或者再外加小球)和地球,他们的动力学特性可以用摆长$l$,质量$m$,重力加速度$g$来描述,单摆运动的初始条件可以由初始能量$E$来描述,运动的过程用运动周期$T$描述,由此可以得到这几个量之间的关系从而找到单摆周期所满足的关系式,下面还将展示一些使用Dimanaly模块的技巧"
   ]
  },
  {
   "cell_type": "code",
   "execution_count": 9,
   "metadata": {},
   "outputs": [
    {
     "name": "stdout",
     "output_type": "stream",
     "text": [
      "输出的表达式为:\n"
     ]
    },
    {
     "data": {
      "text/latex": [
       "$\\displaystyle \\frac{\\sqrt{l}}{T \\sqrt{g}} = \\Pi{\\left(\\frac{g l m}{E} \\right)}$"
      ],
      "text/plain": [
       "Eq(sqrt(l)/(T*sqrt(g)), \\Pi(g*l*m/E))"
      ]
     },
     "metadata": {},
     "output_type": "display_data"
    },
    {
     "name": "stdout",
     "output_type": "stream",
     "text": [
      "单摆周期为:\n"
     ]
    },
    {
     "data": {
      "text/latex": [
       "$\\displaystyle T = \\frac{\\sqrt{l}}{\\sqrt{g} \\Pi{\\left(\\frac{g l m}{E} \\right)}}$"
      ],
      "text/plain": [
       "Eq(T, sqrt(l)/(sqrt(g)*\\Pi(g*l*m/E)))"
      ]
     },
     "metadata": {},
     "output_type": "display_data"
    }
   ],
   "source": [
    "T=da.DimVar('T',T=1)\n",
    "E=da.DimVar('E','energy',regex=True)\n",
    "# SimplePendulum=da.DimFormula([T,E,'g','m','l'])#T在函数中出现了两次\n",
    "# SimplePendulum=da.DimFormula([E,'g','m','l',T])#把T放在后面,越后面的量越容易成为othergroup,越容易在函数中只出现一次\n",
    "# SimplePendulum=da.DimFormula([E,'g','m',T,'l'])#一般othegroup中的第一个向量会放在函数的外面,但E又出现了两次\n",
    "SimplePendulum=da.DimFormula(['g','m','l',T,E])#这才是我们想要的表达式\n",
    "print('输出的表达式为:')\n",
    "display(SimplePendulum.get_formula())\n",
    "print('单摆周期为:')\n",
    "display(SimplePendulum.get_formulafor(T))"
   ]
  },
  {
   "attachments": {},
   "cell_type": "markdown",
   "metadata": {},
   "source": [
    "## 管道流动的传热\n",
    "<br>&emsp;&emsp;来源于`参考文献2`,考虑圆管道内稳恒流动流体的每单位温差下单位时间内通过单位面积的传热量即传热率$h$问题,主要的相关物理量为管直径$d$、管长$l$、流体密度$\\rho$ 、粘度$\\mu$ 、热导率$\\kappa$ 、平均流速$v$及温差$\\theta$和比热$c$,由此可以构造出这几个物理量之间满足的关系"
   ]
  },
  {
   "cell_type": "code",
   "execution_count": 10,
   "metadata": {},
   "outputs": [
    {
     "data": {
      "text/latex": [
       "$\\displaystyle \\Pi{\\left(\\frac{d \\rho v}{\\mu},\\frac{d^{3} \\rho v^{2}}{\\theta},\\frac{v}{d^{2} \\kappa},\\frac{1}{c d^{3} \\rho},\\frac{v}{d^{3} h},\\frac{d}{l} \\right)} = 0$"
      ],
      "text/plain": [
       "Eq(\\Pi(d*rho*v/mu, d**3*rho*v**2/theta, v/(d**2*kappa), 1/(c*d**3*rho), v/(d**3*h), d/l), 0)"
      ]
     },
     "metadata": {},
     "output_type": "display_data"
    }
   ],
   "source": [
    "mu=da.DimVar('mu',M=1,L=-1,T=-1)\n",
    "kappa=da.DimVar('kappa',L=-1,T=-1)\n",
    "c=da.DimVar('c',M=-1)\n",
    "h=da.DimVar('h',L=-2,T=-1)\n",
    "d=da.DimVar('d',L=1)\n",
    "rho=da.DimVar('rho','rho_m')\n",
    "theta=da.DimVar('theta',M=1,L=2,T=-2,value_of_SI=2)\n",
    "v=da.DimVar('v',L=1,T=-1)\n",
    "l=da.DimVar('l',L=1)\n",
    "expr_HeatPipeline=da.DimFormula([rho,v,d,mu,theta,kappa,c,h,l])\n",
    "display(expr_HeatPipeline.get_formula())"
   ]
  },
  {
   "attachments": {},
   "cell_type": "markdown",
   "metadata": {},
   "source": [
    "&emsp;&emsp;上面得到的关系并不理想,虽然第一个无纲量代表着雷诺数$\\kappa =\\rho vd/\\mu$但后面几个量的物理意义并不明显,我们发现$h$,$d$,$\\kappa$可以构造一个重要的无纲量Nusselt数:$Nu=hd/\\kappa$,而$c$,$\\mu$,$\\kappa$也可以构造一个无纲量Prandtl数:$Pr=c\\mu/\\kappa$,于是我们可以把这些物理量各自打包后再传入DimFormula的参数中,得到较为理想的结果"
   ]
  },
  {
   "cell_type": "code",
   "execution_count": 11,
   "metadata": {},
   "outputs": [
    {
     "data": {
      "text/latex": [
       "$\\displaystyle \\Pi{\\left(\\frac{d h}{\\kappa},\\frac{\\mu}{d \\rho v},\\frac{\\kappa}{c \\mu},\\frac{v^{2}}{c \\theta},\\frac{v}{\\kappa l^{2}},\\frac{l}{d} \\right)} = 0$"
      ],
      "text/plain": [
       "Eq(\\Pi(d*h/kappa, mu/(d*rho*v), kappa/(c*mu), v**2/(c*theta), v/(kappa*l**2), l/d), 0)"
      ]
     },
     "execution_count": 11,
     "metadata": {},
     "output_type": "execute_result"
    }
   ],
   "source": [
    "expr_HeatPipeline2=da.DimFormula([h,d,kappa],[d,rho,mu,v],[mu,kappa,c],[v,theta,c,l,kappa,d])\n",
    "expr_HeatPipeline2.get_formula()"
   ]
  },
  {
   "attachments": {},
   "cell_type": "markdown",
   "metadata": {},
   "source": [
    "在得到上述结果后最好使用check_freedom()方法检查变量打包后构造的关系式的自由度与未打包时的是否相同,以确保关系式的正确性"
   ]
  },
  {
   "cell_type": "code",
   "execution_count": 12,
   "metadata": {},
   "outputs": [
    {
     "name": "stdout",
     "output_type": "stream",
     "text": [
      "the degree of freedom is correct\n"
     ]
    }
   ],
   "source": [
    "expr_HeatPipeline2.check_freedom()"
   ]
  },
  {
   "attachments": {},
   "cell_type": "markdown",
   "metadata": {},
   "source": [
    "使用get_dimmat()方法查看量纲表示矩阵的转置以及各量的数值"
   ]
  },
  {
   "cell_type": "code",
   "execution_count": 13,
   "metadata": {},
   "outputs": [
    {
     "data": {
      "text/html": [
       "<div>\n",
       "<style scoped>\n",
       "    .dataframe tbody tr th:only-of-type {\n",
       "        vertical-align: middle;\n",
       "    }\n",
       "\n",
       "    .dataframe tbody tr th {\n",
       "        vertical-align: top;\n",
       "    }\n",
       "\n",
       "    .dataframe thead th {\n",
       "        text-align: right;\n",
       "    }\n",
       "</style>\n",
       "<table border=\"1\" class=\"dataframe\">\n",
       "  <thead>\n",
       "    <tr style=\"text-align: right;\">\n",
       "      <th></th>\n",
       "      <th>h</th>\n",
       "      <th>d</th>\n",
       "      <th>kappa</th>\n",
       "      <th>rho</th>\n",
       "      <th>mu</th>\n",
       "      <th>v</th>\n",
       "      <th>c</th>\n",
       "      <th>theta</th>\n",
       "      <th>l</th>\n",
       "    </tr>\n",
       "  </thead>\n",
       "  <tbody>\n",
       "    <tr>\n",
       "      <th>L</th>\n",
       "      <td>-2</td>\n",
       "      <td>1</td>\n",
       "      <td>-1</td>\n",
       "      <td>-3.0</td>\n",
       "      <td>-1.0</td>\n",
       "      <td>1.0</td>\n",
       "      <td>0.0</td>\n",
       "      <td>2.0</td>\n",
       "      <td>1.0</td>\n",
       "    </tr>\n",
       "    <tr>\n",
       "      <th>M</th>\n",
       "      <td>0.0</td>\n",
       "      <td>0.0</td>\n",
       "      <td>0.0</td>\n",
       "      <td>1.0</td>\n",
       "      <td>1.0</td>\n",
       "      <td>0.0</td>\n",
       "      <td>-1.0</td>\n",
       "      <td>1.0</td>\n",
       "      <td>0.0</td>\n",
       "    </tr>\n",
       "    <tr>\n",
       "      <th>T</th>\n",
       "      <td>-1.0</td>\n",
       "      <td>0.0</td>\n",
       "      <td>-1.0</td>\n",
       "      <td>0.0</td>\n",
       "      <td>-1.0</td>\n",
       "      <td>-1.0</td>\n",
       "      <td>0.0</td>\n",
       "      <td>-2.0</td>\n",
       "      <td>0.0</td>\n",
       "    </tr>\n",
       "    <tr>\n",
       "      <th>value_of_SI</th>\n",
       "      <td>None</td>\n",
       "      <td>None</td>\n",
       "      <td>None</td>\n",
       "      <td>NaN</td>\n",
       "      <td>NaN</td>\n",
       "      <td>NaN</td>\n",
       "      <td>None</td>\n",
       "      <td>2.0</td>\n",
       "      <td>NaN</td>\n",
       "    </tr>\n",
       "  </tbody>\n",
       "</table>\n",
       "</div>"
      ],
      "text/plain": [
       "                h     d kappa  rho   mu    v     c  theta    l\n",
       "L              -2     1    -1 -3.0 -1.0  1.0   0.0    2.0  1.0\n",
       "M             0.0   0.0   0.0  1.0  1.0  0.0  -1.0    1.0  0.0\n",
       "T            -1.0   0.0  -1.0  0.0 -1.0 -1.0   0.0   -2.0  0.0\n",
       "value_of_SI  None  None  None  NaN  NaN  NaN  None    2.0  NaN"
      ]
     },
     "execution_count": 13,
     "metadata": {},
     "output_type": "execute_result"
    }
   ],
   "source": [
    "expr_HeatPipeline2.get_dimmat()"
   ]
  },
  {
   "attachments": {},
   "cell_type": "markdown",
   "metadata": {},
   "source": [
    "## 饮料加冰冷却\n",
    "<br>来源于`参考文献2`,问题涉及的关键量有冰块的线度$l$,冷却时间$T$,温差$\\theta$,冰的热导率$\\kappa$,饮料体积比热$c$,玻尔兹曼常数$k_B$,由此得到下面的关系"
   ]
  },
  {
   "cell_type": "code",
   "execution_count": 14,
   "metadata": {},
   "outputs": [
    {
     "name": "stdout",
     "output_type": "stream",
     "text": [
      "输出的表达式为:\n"
     ]
    },
    {
     "data": {
      "text/latex": [
       "$\\displaystyle \\frac{c l^{2}}{T \\kappa} = \\Pi{\\left(\\frac{c l^{3}}{k_{B}} \\right)}$"
      ],
      "text/plain": [
       "Eq(c*l**2/(T*kappa), \\Pi(c*l**3/k_B))"
      ]
     },
     "metadata": {},
     "output_type": "display_data"
    },
    {
     "name": "stdout",
     "output_type": "stream",
     "text": [
      "T的表达式为:\n"
     ]
    },
    {
     "data": {
      "text/latex": [
       "$\\displaystyle T = \\frac{c l^{2}}{\\kappa \\Pi{\\left(\\frac{c l^{3}}{k_{B}} \\right)}}$"
      ],
      "text/plain": [
       "Eq(T, c*l**2/(kappa*\\Pi(c*l**3/k_B)))"
      ]
     },
     "metadata": {},
     "output_type": "display_data"
    }
   ],
   "source": [
    "T=da.DimVar('T',T=1)\n",
    "theta=da.DimVar('Theta',Theta=1)\n",
    "c=da.DimVar('c',M=1,L=-1,T=-2,Theta=-1)\n",
    "kappa=da.DimVar('kappa',M=1,L=1,T=-3,Theta=-1)\n",
    "CoolDrink=da.DimFormula(['l',T,theta,c,kappa,'k_B'])\n",
    "print('输出的表达式为:')\n",
    "display(CoolDrink.get_formula())\n",
    "print('T的表达式为:')\n",
    "display(CoolDrink.get_formulafor(T))"
   ]
  },
  {
   "attachments": {},
   "cell_type": "markdown",
   "metadata": {},
   "source": [
    "## 电荷守恒定律\n",
    "<br>对于如$\\partial_t,\\nabla$等微分运算或其他运算操作,也可以类似地定义运算后的量纲,然后找出他们之间的关系"
   ]
  },
  {
   "cell_type": "code",
   "execution_count": 15,
   "metadata": {},
   "outputs": [
    {
     "name": "stdout",
     "output_type": "stream",
     "text": [
      "输出的表达式为:\n"
     ]
    },
    {
     "data": {
      "text/latex": [
       "$\\displaystyle \\frac{\\frac{\\partial\\rho}{\\partial t}}{\\nabla\\cdot{\\vec{j}} } = C$"
      ],
      "text/plain": [
       "Eq(\\frac{\\partial\\rho}{\\partial t}/\\nabla\\cdot{\\vec{j}} , C)"
      ]
     },
     "metadata": {},
     "output_type": "display_data"
    },
    {
     "name": "stdout",
     "output_type": "stream",
     "text": [
      "整理后得到:\n"
     ]
    },
    {
     "data": {
      "text/latex": [
       "$\\displaystyle \\frac{\\partial\\rho}{\\partial t} = C \\nabla\\cdot{\\vec{j}} $"
      ],
      "text/plain": [
       "Eq(\\frac{\\partial\\rho}{\\partial t}, C*\\nabla\\cdot{\\vec{j}} )"
      ]
     },
     "metadata": {},
     "output_type": "display_data"
    }
   ],
   "source": [
    "par_rho_par_t=da.DimVar('\\\\frac{\\partial\\\\rho}{\\partial t}')#注意需要使用两个反斜杠'\\\\'\n",
    "par_rho_par_t.change_dimdic({'rho_q':1,'t':-1})#对t求偏微分相当于减去一个时间量纲\n",
    "divj=da.DimVar('\\\\nabla\\cdot{\\\\vec{j}} ')\n",
    "divj.change_dimdic({'j':1,'l':-1})#求散度相当于减去一个长度量纲\n",
    "ConservationOfCharge=da.DimFormula([par_rho_par_t,divj])\n",
    "print('输出的表达式为:')\n",
    "display(ConservationOfCharge.get_formula())\n",
    "print('整理后得到:')\n",
    "display(ConservationOfCharge.get_formulafor(par_rho_par_t))"
   ]
  },
  {
   "attachments": {},
   "cell_type": "markdown",
   "metadata": {},
   "source": [
    "令$C=-1$即得电荷守恒定律"
   ]
  },
  {
   "attachments": {},
   "cell_type": "markdown",
   "metadata": {},
   "source": [
    "## 定常流动中的泊肃叶定律\n",
    "<br>来自于`参考文献4`,在定常流动中的体积流率$dV/dt$仅与管道半径$r$,黏度$\\eta$,管道中的压强梯度$\\Delta p/l$有关,使用量纲分析法可得他们之间的关系"
   ]
  },
  {
   "cell_type": "code",
   "execution_count": 16,
   "metadata": {},
   "outputs": [
    {
     "name": "stdout",
     "output_type": "stream",
     "text": [
      "输出的表达式为:\n"
     ]
    },
    {
     "data": {
      "text/latex": [
       "$\\displaystyle \\frac{\\frac{\\Delta p}{l} r^{4}}{Q \\eta} = C$"
      ],
      "text/plain": [
       "Eq(\\frac{\\Delta p}{l}*r**4/(Q*eta), C)"
      ]
     },
     "metadata": {},
     "output_type": "display_data"
    },
    {
     "name": "stdout",
     "output_type": "stream",
     "text": [
      "流量的表达式为:\n"
     ]
    },
    {
     "data": {
      "text/latex": [
       "$\\displaystyle Q = \\frac{\\frac{\\Delta p}{l} r^{4}}{C \\eta}$"
      ],
      "text/plain": [
       "Eq(Q, \\frac{\\Delta p}{l}*r**4/(C*eta))"
      ]
     },
     "metadata": {},
     "output_type": "display_data"
    }
   ],
   "source": [
    "r=da.DimVar('r',L=1)\n",
    "Q=da.DimVar('Q',L=3,T=-1)\n",
    "pdivl=da.DimVar('\\\\frac{\\Delta p}{l}')\n",
    "pdivl.change_dimdic({'p':1,'l':-1})\n",
    "PoiseuilleLaw=da.DimFormula([r,pdivl,Q,'eta'])\n",
    "print('输出的表达式为:')\n",
    "display(PoiseuilleLaw.get_formula())\n",
    "print('流量的表达式为:')\n",
    "display(PoiseuilleLaw.get_formulafor(Q))"
   ]
  },
  {
   "attachments": {},
   "cell_type": "markdown",
   "metadata": {},
   "source": [
    "若不把其中的$\\Delta p/l$整体看作一个关键物理量,而将他们拆为两个关键物理量,得到的表达式所蕴含的信息就会少地多"
   ]
  },
  {
   "cell_type": "code",
   "execution_count": 17,
   "metadata": {},
   "outputs": [
    {
     "data": {
      "text/latex": [
       "$\\displaystyle \\frac{\\Delta p r^{3}}{Q \\eta} = \\Pi{\\left(\\frac{r}{l} \\right)}$"
      ],
      "text/plain": [
       "Eq(\\Delta p*r**3/(Q*eta), \\Pi(r/l))"
      ]
     },
     "metadata": {},
     "output_type": "display_data"
    },
    {
     "data": {
      "text/latex": [
       "$\\displaystyle Q = \\frac{\\Delta p r^{3}}{\\eta \\Pi{\\left(\\frac{r}{l} \\right)}}$"
      ],
      "text/plain": [
       "Eq(Q, \\Delta p*r**3/(eta*\\Pi(r/l)))"
      ]
     },
     "metadata": {},
     "output_type": "display_data"
    }
   ],
   "source": [
    "deltap=da.DimVar('\\Delta p',use_database_byname='p')\n",
    "l=da.DimVar('l',L=1)\n",
    "PoiseuilleLaw2=da.DimFormula([r,deltap,'eta',Q,l])\n",
    "display(PoiseuilleLaw2.get_formula())\n",
    "display(PoiseuilleLaw2.get_formulafor(Q))"
   ]
  },
  {
   "attachments": {},
   "cell_type": "markdown",
   "metadata": {},
   "source": [
    "## 一维量子谐振子\n",
    "<br>&emsp;&emsp;谐振子势的特性可以用$\\omega$描述,量子力学的特性可以用$\\hbar$描述,物体的动力学性质可以用质量$\\mu$和能量$E$来描述,当然$E$中还包含着一些初始条件的内容,在坐标表象下结合坐标$x$可以构造出两个无纲量,粒子在谐振子势中的运动可以用这两个无纲量来描述,在理论推算过程中,这两个无纲量之间关系可归结为一个微分方程,也即谐振子标准方程:\n",
    "$$\\left[\\frac{\\mathrm{d^2}}{\\mathrm{d^2} \\xi}+(\\lambda-\\xi^2)\\right]\\psi(\\xi)=0$$\n",
    "其中$\\xi=x\\sqrt{\\mu \\omega/\\hbar},\\lambda=2E/\\hbar\\omega$"
   ]
  },
  {
   "cell_type": "code",
   "execution_count": 18,
   "metadata": {},
   "outputs": [
    {
     "data": {
      "text/latex": [
       "$\\displaystyle \\frac{\\hbar}{\\mu \\omega x^{2}} = \\Pi{\\left(\\frac{\\hbar \\omega}{E} \\right)}$"
      ],
      "text/plain": [
       "Eq(hbar/(mu*omega*x**2), \\Pi(hbar*omega/E))"
      ]
     },
     "execution_count": 18,
     "metadata": {},
     "output_type": "execute_result"
    }
   ],
   "source": [
    "x=da.DimVar('x',L=1)\n",
    "omega=da.DimVar('omega',T=-1)\n",
    "mu=da.DimVar('mu',M=1)\n",
    "E=da.DimVar('E','energy',regex=True)\n",
    "HarmonicOscillator=da.DimFormula([x,'hbar',omega,mu,E])#放在前面的量更容易出现在分子上\n",
    "HarmonicOscillator.get_formula()"
   ]
  },
  {
   "attachments": {},
   "cell_type": "markdown",
   "metadata": {},
   "source": [
    "$E$应有形式:\n",
    "$$E=\\hbar\\omega f\\left(\\frac{\\mu\\omega x^2}{\\hbar}\\right)$$\n",
    "考虑到$E$应不含$x$\n",
    "所以一种简单的形式可以是:\n",
    "$$E=C\\hbar\\omega\\left(\\frac{\\mu\\omega x^2}{\\hbar}\\right)^0=C\\hbar\\omega$$\n",
    "理论演算得到的定态能量为,由此可知上式中的常数$C=(n+1/2)$:\n",
    "$$E_n=\\left(n+\\frac{1}{2}\\right)\\hbar\\omega(n=0,1,2,3,\\cdots)$$"
   ]
  },
  {
   "attachments": {},
   "cell_type": "markdown",
   "metadata": {},
   "source": [
    "## 一维无限深方势阱\n",
    "<br>&emsp;&emsp;描述粒子在一维无限深方势中运动的参量有：粒子的质量$\\mu$及其能量$E$、势阱宽度$a$、表征量子效应的约化普朗克常数$\\hbar$,由此可得这两个无纲量以及它们之间的联系,在理论推导中他们的联系体现为一个微分方程:\n",
    "$$\\left(\\frac{\\mathrm{d^2}}{\\mathrm{d^2} \\xi}+k^2\\right)\\psi(\\xi)=0$$\n",
    "其中$\\xi=x/a,k=a\\sqrt{2\\mu E/\\hbar^2}$"
   ]
  },
  {
   "cell_type": "code",
   "execution_count": 19,
   "metadata": {},
   "outputs": [
    {
     "data": {
      "text/latex": [
       "$\\displaystyle \\frac{a}{x} = \\Pi{\\left(\\frac{\\sqrt{E} a \\sqrt{\\mu}}{\\hbar} \\right)}$"
      ],
      "text/plain": [
       "Eq(a/x, \\Pi(sqrt(E)*a*sqrt(mu)/hbar))"
      ]
     },
     "execution_count": 19,
     "metadata": {},
     "output_type": "execute_result"
    }
   ],
   "source": [
    "#创建量纲变量对象\n",
    "E=da.DimVar('E','能量',regex=True)\n",
    "a=da.DimVar('a',L=1)\n",
    "x=da.DimVar('x',L=1)\n",
    "mu=da.DimVar('mu','m')\n",
    "varlist=[E,a,x,mu,'hbar']\n",
    "#创建公式对象\n",
    "expr_PotentialWell=da.DimFormula(varlist)\n",
    "#输出结果\n",
    "expr_PotentialWell.get_formula()#使用display在jupyter中展示结果"
   ]
  },
  {
   "attachments": {},
   "cell_type": "markdown",
   "metadata": {},
   "source": [
    "$E$应有形式:\n",
    "$$E=\\frac{\\hbar^2}{a^2\\mu}f\\left(\\frac{a}{x}\\right)$$\n",
    "考虑到$E$应不含$x$,所以一种简单的形式可以是\n",
    "$$E=C\\frac{\\hbar^2}{a^2\\mu}\\left(\\frac{a}{x}\\right)^0=C\\frac{\\hbar^2}{a^2\\mu}$$\n",
    "理论演算的结果如下,由此可知上式能量表达式中的常数$C$为$2/n^2\\pi^2$\n",
    "$$E_n=\\frac{n^2\\pi^2\\hbar^2}{2\\mu a^2}(n=1,2,3,\\cdots)$$"
   ]
  },
  {
   "attachments": {},
   "cell_type": "markdown",
   "metadata": {},
   "source": [
    "## 氢原子\n",
    "<br>&emsp;&emsp;同理,描述氢原子的关键物理量有电荷量$e$,质量$\\mu$,线度$r$,介电常量$\\epsilon_0$,约化普朗克常数$\\hbar$,能量$E$,由此可构造出两个无纲量并得到他们之间的联系,在理论推导中,这个联系体现为一个微分方程:\n",
    "$$\\left[\\frac{\\mathrm{d^2}}{\\mathrm{d^2} \\xi}-\\frac{1}{4}+\\frac{1}{\\beta\\xi}-\\frac{l(l+1)}{\\xi^2}\\right]\\mu(\\xi)=0$$\n",
    "其中$a=\\hbar/\\mu e^2,\\beta=a\\sqrt{2\\mu \\left|E\\right|/\\hbar^2},\\xi=2\\beta r/a$"
   ]
  },
  {
   "cell_type": "code",
   "execution_count": 20,
   "metadata": {},
   "outputs": [
    {
     "data": {
      "text/latex": [
       "$\\displaystyle \\frac{e^{2} \\mu r}{\\epsilon_{0} \\hbar^{2}} = \\Pi{\\left(\\frac{\\hbar^{2}}{E \\mu r^{2}} \\right)}$"
      ],
      "text/plain": [
       "Eq(e**2*mu*r/(epsilon_0*hbar**2), \\Pi(hbar**2/(E*mu*r**2)))"
      ]
     },
     "metadata": {},
     "output_type": "display_data"
    }
   ],
   "source": [
    "r=da.DimVar('r',L=1)\n",
    "mu=da.DimVar('mu',M=1)\n",
    "E=da.DimVar('E',use_database_byname='W')\n",
    "Hydrogen=da.DimFormula(['hbar','e',r,mu,'epsilon_0',E])\n",
    "display(Hydrogen.get_formula())"
   ]
  },
  {
   "attachments": {},
   "cell_type": "markdown",
   "metadata": {},
   "source": [
    "$E$应有形式:\n",
    "$$E=\\frac{\\hbar^2}{\\mu r^2}f\\left(\\frac{e^2\\mu r}{\\epsilon_0 \\hbar^2}\\right)$$\n",
    "考虑到$E$应不含$r$,所以它的一种简单形式可以是:\n",
    "$$E=C\\frac{\\hbar^2}{\\mu r^2}\\left(\\frac{e^2\\mu r}{\\epsilon_0 \\hbar^2}\\right)^2\\Rightarrow C\\frac{\\mu e^4}{\\epsilon_0^2 \\hbar^2}$$\n",
    "理论演算得到的定态能量为:\n",
    "$$E_n=-\\frac{\\mu e^4}{2n^2\\hbar^2}(n=1,2,3,\\cdots)$$\n",
    "上式使用的是高斯单位制,所以$\\epsilon_0=1$"
   ]
  },
  {
   "attachments": {},
   "cell_type": "markdown",
   "metadata": {},
   "source": [
    "## 弹性球的撞击形变\n",
    "<br>&emsp;&emsp;来源于`参考文献1`,考虑表面涂墨的弹性球沿垂直方向撞击平板弹跳在平板上的印记,设想球有理想弹性,平板完全平滑,质量很大,不移动也不发生形变.关键量除待求的印记半径$d$外,有球直径$D$、撞击速度$v$、密度$\\rho$及描述球弹性的模量$Y$和泊松比$\\gamma$,质量可由体积和密度算出而不必考虑,由上述关键量可得到他们之间满足的关系式"
   ]
  },
  {
   "cell_type": "code",
   "execution_count": 21,
   "metadata": {},
   "outputs": [
    {
     "data": {
      "text/latex": [
       "$\\displaystyle \\Pi{\\left(\\frac{d}{D},\\frac{\\rho_{m} v^{2}}{Y},\\frac{1}{\\gamma} \\right)} = 0$"
      ],
      "text/plain": [
       "Eq(\\Pi(d/D, rho_m*v**2/Y, 1/gamma), 0)"
      ]
     },
     "execution_count": 21,
     "metadata": {},
     "output_type": "execute_result"
    }
   ],
   "source": [
    "d=da.DimVar('d',L=1)\n",
    "D=da.DimVar('D',L=1)\n",
    "v=da.DimVar('v',use_database_byname='c')\n",
    "Y=da.DimVar('Y',M=1,L=-1,T=-2)\n",
    "gamma=da.DimVar('gamma')\n",
    "ImpactDeformation=da.DimFormula([d,D,v,'rho_m',Y,gamma])\n",
    "ImpactDeformation.get_formula()"
   ]
  },
  {
   "attachments": {},
   "cell_type": "markdown",
   "metadata": {},
   "source": [
    "# 检查公式在量纲上是否正确\n",
    "<br>一个简单的例子:\n",
    "$$t=\\sqrt{\\frac{l}{g}}\\Rightarrow C=t^{-1}l^{0.5}g^{-0.5}$$"
   ]
  },
  {
   "cell_type": "code",
   "execution_count": 22,
   "metadata": {},
   "outputs": [
    {
     "name": "stdout",
     "output_type": "stream",
     "text": [
      "the formula is dimensionally correct\n"
     ]
    }
   ],
   "source": [
    "dimseries,dimvarlist=da.is_true({'t':-1,'l':0.5,'g':-0.5})"
   ]
  },
  {
   "attachments": {},
   "cell_type": "markdown",
   "metadata": {},
   "source": [
    "# 参考文献\n",
    "1. [郑伟谋.量纲分析和量纲制[J].物理,2021,50(12):797-811.](http://www.wuli.ac.cn/cn/article/doi/10.7693/wl20211202)\n",
    "2. 梁灿彬,曹周健.量纲理论与应用.北京:科学出版社,2020\n",
    "3. 曾谨言.量子力学.北京:科学出版社,2007\n",
    "4. 秦允豪.热学.北京:高等教育出版社,2018,p124\n",
    "5. [ALEXANDER, R. Estimates of speeds of dinosaurs. Nature 261, 129–130 (1976).](https://doi.org/10.1038/261129a0)"
   ]
  }
 ],
 "metadata": {
  "kernelspec": {
   "display_name": "Python 3",
   "language": "python",
   "name": "python3"
  },
  "language_info": {
   "codemirror_mode": {
    "name": "ipython",
    "version": 3
   },
   "file_extension": ".py",
   "mimetype": "text/x-python",
   "name": "python",
   "nbconvert_exporter": "python",
   "pygments_lexer": "ipython3",
   "version": "3.10.5"
  },
  "orig_nbformat": 4,
  "vscode": {
   "interpreter": {
    "hash": "27f6fea6f47ae512550f0b8facdbd035a93e1dd89633f7bf2dd00a2502c71d0d"
   }
  }
 },
 "nbformat": 4,
 "nbformat_minor": 2
}
