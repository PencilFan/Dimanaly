{
 "cells": [
  {
   "attachments": {},
   "cell_type": "markdown",
   "metadata": {},
   "source": [
    "# 原子弹爆炸能量的估计\n",
    "&emsp;&emsp;英国著名流体力学专家泰勒爵士(Sir Geoffrey I. Taylor)在1947年通过美国政府公布的关于原子弹爆炸过程的系列照片通过量纲分析的方法估算出了当时原子弹所释放的能量,这个值与当时绝密的美国官方估算值非常接近,是关于量纲分析与$\\Pi$定理应用的经典案例,该文档所述内容来源于`参考文献1`与`参考文献2`\n",
    "<br>&emsp;&emsp;泰勒教授经研究后认为原子弹爆炸的物理过程所涉及的关键物理量有5个:1.爆炸释放的能量$E$;2.从爆炸开始算起的时间$t$;3.爆炸产生的火球半径$R$;4.火球外面正常大气的密度$\\rho$;5.空气的热容比$\\gamma$,下面我们首先引入模块然后再利用这五个关键变量构造出火球半径$R$所满足的关系式,这样就可以利用照片上的火球半径信息估算出原子弹爆炸的能量"
   ]
  },
  {
   "cell_type": "code",
   "execution_count": 1,
   "metadata": {},
   "outputs": [],
   "source": [
    "import Dimanaly as da\n",
    "import sympy as sp"
   ]
  },
  {
   "cell_type": "code",
   "execution_count": 2,
   "metadata": {},
   "outputs": [
    {
     "name": "stdout",
     "output_type": "stream",
     "text": [
      "输出的表达式为:\n"
     ]
    },
    {
     "data": {
      "text/latex": [
       "$\\displaystyle \\frac{R^{\\frac{5}{2}} \\sqrt{\\rho}}{\\sqrt{E} t} = \\Pi{\\left(\\frac{1}{\\gamma} \\right)}$"
      ],
      "text/plain": [
       "Eq(R**(5/2)*sqrt(rho)/(sqrt(E)*t), \\Pi(1/gamma))"
      ]
     },
     "metadata": {},
     "output_type": "display_data"
    },
    {
     "name": "stdout",
     "output_type": "stream",
     "text": [
      "关于R的表达式为:\n"
     ]
    },
    {
     "data": {
      "text/latex": [
       "$\\displaystyle R = \\frac{\\sqrt[5]{E} t^{\\frac{2}{5}} \\Pi^{\\frac{2}{5}}{\\left(\\frac{1}{\\gamma} \\right)}}{\\sqrt[5]{\\rho}}$"
      ],
      "text/plain": [
       "Eq(R, E**(1/5)*t**(2/5)*\\Pi(1/gamma)**(2/5)/rho**(1/5))"
      ]
     },
     "metadata": {},
     "output_type": "display_data"
    }
   ],
   "source": [
    "R=da.DimVar('R',L=1)\n",
    "E=da.DimVar('E','能量',regex=True)\n",
    "gamma=da.DimVar('gamma',value_of_SI=1.4)\n",
    "rho=da.DimVar('rho','rho_m',value_of_SI=1.25)\n",
    "AtomicBomb=da.DimFormula([R,E,rho,'t',gamma])\n",
    "print('输出的表达式为:')\n",
    "display(AtomicBomb.get_formula())\n",
    "print('关于R的表达式为:')\n",
    "expr_forR=AtomicBomb.get_formulafor(R)\n",
    "display(expr_forR)"
   ]
  },
  {
   "attachments": {},
   "cell_type": "markdown",
   "metadata": {},
   "source": [
    "<br>&emsp;&emsp;使用DimFormula对象的get_dimmat()方法可以得到这5个关键变量的量纲表示转置矩阵及相关数值\n",
    "<br>&emsp;&emsp;另外我们可以看到关于$R$的解不止一个,在使用DimFormula对象的get_formulafor()方法后调用该对象的solutions属性可以查看其他可能的解,可以发现这些解形式都很复杂且含有虚数,不太可能是切合实际的表达式"
   ]
  },
  {
   "cell_type": "code",
   "execution_count": 6,
   "metadata": {},
   "outputs": [
    {
     "data": {
      "text/html": [
       "<div>\n",
       "<style scoped>\n",
       "    .dataframe tbody tr th:only-of-type {\n",
       "        vertical-align: middle;\n",
       "    }\n",
       "\n",
       "    .dataframe tbody tr th {\n",
       "        vertical-align: top;\n",
       "    }\n",
       "\n",
       "    .dataframe thead th {\n",
       "        text-align: right;\n",
       "    }\n",
       "</style>\n",
       "<table border=\"1\" class=\"dataframe\">\n",
       "  <thead>\n",
       "    <tr style=\"text-align: right;\">\n",
       "      <th></th>\n",
       "      <th>R</th>\n",
       "      <th>E</th>\n",
       "      <th>rho</th>\n",
       "      <th>t</th>\n",
       "      <th>gamma</th>\n",
       "    </tr>\n",
       "  </thead>\n",
       "  <tbody>\n",
       "    <tr>\n",
       "      <th>L</th>\n",
       "      <td>1.0</td>\n",
       "      <td>2.0</td>\n",
       "      <td>-3.00</td>\n",
       "      <td>0.0</td>\n",
       "      <td>0.0</td>\n",
       "    </tr>\n",
       "    <tr>\n",
       "      <th>M</th>\n",
       "      <td>0.0</td>\n",
       "      <td>1.0</td>\n",
       "      <td>1.00</td>\n",
       "      <td>0.0</td>\n",
       "      <td>0.0</td>\n",
       "    </tr>\n",
       "    <tr>\n",
       "      <th>T</th>\n",
       "      <td>0.0</td>\n",
       "      <td>-2.0</td>\n",
       "      <td>0.00</td>\n",
       "      <td>1.0</td>\n",
       "      <td>0.0</td>\n",
       "    </tr>\n",
       "    <tr>\n",
       "      <th>value_of_SI</th>\n",
       "      <td>NaN</td>\n",
       "      <td>NaN</td>\n",
       "      <td>1.25</td>\n",
       "      <td>NaN</td>\n",
       "      <td>1.4</td>\n",
       "    </tr>\n",
       "  </tbody>\n",
       "</table>\n",
       "</div>"
      ],
      "text/plain": [
       "               R    E   rho    t  gamma\n",
       "L            1.0  2.0 -3.00  0.0    0.0\n",
       "M            0.0  1.0  1.00  0.0    0.0\n",
       "T            0.0 -2.0  0.00  1.0    0.0\n",
       "value_of_SI  NaN  NaN  1.25  NaN    1.4"
      ]
     },
     "metadata": {},
     "output_type": "display_data"
    },
    {
     "data": {
      "text/latex": [
       "$\\displaystyle \\left(- \\frac{\\sqrt[10]{E} \\sqrt[5]{t} \\sqrt[5]{\\Pi{\\left(\\frac{1}{\\gamma} \\right)}}}{4 \\sqrt[10]{\\rho}} + \\frac{\\sqrt{5} \\sqrt[10]{E} \\sqrt[5]{t} \\sqrt[5]{\\Pi{\\left(\\frac{1}{\\gamma} \\right)}}}{4 \\sqrt[10]{\\rho}} - \\frac{i \\sqrt[10]{E} \\sqrt[5]{t} \\sqrt{\\frac{\\sqrt{5}}{8} + \\frac{5}{8}} \\sqrt[5]{\\Pi{\\left(\\frac{1}{\\gamma} \\right)}}}{\\sqrt[10]{\\rho}}\\right)^{2}$"
      ],
      "text/plain": [
       "(-E**(1/10)*t**(1/5)*\\Pi(1/gamma)**(1/5)/(4*rho**(1/10)) + sqrt(5)*E**(1/10)*t**(1/5)*\\Pi(1/gamma)**(1/5)/(4*rho**(1/10)) - I*E**(1/10)*t**(1/5)*sqrt(sqrt(5)/8 + 5/8)*\\Pi(1/gamma)**(1/5)/rho**(1/10))**2"
      ]
     },
     "metadata": {},
     "output_type": "display_data"
    }
   ],
   "source": [
    "display(AtomicBomb.get_dimmat())\n",
    "display(AtomicBomb.solutions[1])"
   ]
  },
  {
   "attachments": {},
   "cell_type": "markdown",
   "metadata": {},
   "source": [
    "<br>&emsp;&emsp;通过小型实验与已知数据,泰勒教授得到$\\Pi(1/\\gamma)=(0.926)^{-0.4}\\approx 1.03$,而大气密度$\\rho$估计为$1.25kg/m^2$ 因此只有从照片式提取到火球半径$R$关于爆炸时间t的规律,通过拟合就可以得出原子弹爆炸的能量数值,考虑到$R$与是$t$乘幂的关系,拟合效果不太直观,两边取对数后得到$\\ln R$与$\\ln t$之间就呈线性关系了,线性拟合的效果就一目了然了,所以接下来首先对表达式进行取对数化简,之后再代入数值得到$\\ln E ,\\ln R ,\\ln t$之间的线性关系"
   ]
  },
  {
   "cell_type": "code",
   "execution_count": 3,
   "metadata": {},
   "outputs": [
    {
     "data": {
      "text/latex": [
       "$\\displaystyle \\frac{1.11803398874989 R^{\\frac{5}{2}}}{\\sqrt{E} t} = \\Pi{\\left(0.714285714285714 \\right)}$"
      ],
      "text/plain": [
       "Eq(1.11803398874989*R**(5/2)/(sqrt(E)*t), \\Pi(0.714285714285714))"
      ]
     },
     "metadata": {},
     "output_type": "display_data"
    },
    {
     "data": {
      "text/latex": [
       "$\\displaystyle - \\frac{\\log{\\left(E \\right)}}{2} + \\frac{5 \\log{\\left(R \\right)}}{2} - \\log{\\left(t \\right)} + 0.0820129734155605 = 0$"
      ],
      "text/plain": [
       "Eq(-log(E)/2 + 5*log(R)/2 - log(t) + 0.0820129734155605, 0)"
      ]
     },
     "metadata": {},
     "output_type": "display_data"
    }
   ],
   "source": [
    "expr_value=AtomicBomb.get_formulavalue()\n",
    "display(expr_value)\n",
    "def oeprate_item(expr):\n",
    "    '''对式子进行操作'''\n",
    "    log_expr=sp.log(expr)#取对数\n",
    "    expand_expr=sp.expand(log_expr)#展开对数\n",
    "    return expand_expr\n",
    "def operate_equ(lhs,rhs):\n",
    "    '''对等式进行操作'''\n",
    "    op_lhs=oeprate_item(lhs)\n",
    "    op_rhs=oeprate_item(rhs)\n",
    "    lhs_new=op_lhs-op_rhs#将式子全移到左边\n",
    "    equ_new=sp.Eq(lhs_new,0)\n",
    "    return equ_new\n",
    "equ_simplify=operate_equ(expr_value.lhs,sp.S(1.03))\n",
    "display(equ_simplify)"
   ]
  },
  {
   "attachments": {},
   "cell_type": "markdown",
   "metadata": {},
   "source": [
    "得到表达式之后我们就可以根据泰勒教授整理的数据进行拟合,数据可见参考文献"
   ]
  },
  {
   "cell_type": "code",
   "execution_count": 4,
   "metadata": {},
   "outputs": [
    {
     "data": {
      "image/png": "[encoded data removed]",
      "text/plain": [
       "<Figure size 500x500 with 1 Axes>"
      ]
     },
     "metadata": {},
     "output_type": "display_data"
    }
   ],
   "source": [
    "import numpy as np\n",
    "import matplotlib.pyplot as plt\n",
    "#初始化数据\n",
    "t_ms=np.array([0.10,0.24,0.38,0.52,0.66,0.80,0.94,\n",
    "              1.08,1.22,1.36,1.50,1.65,1.79,1.93,\n",
    "              3.26,3.53,3.80,4.07,4.34,4.61,\n",
    "              15.0,25.0,34.0,53.0,62.0])\n",
    "R_m=np.array([11.1,19.9,25.4,28.8,31.9,34.2,36.3,\n",
    "              38.9,41.0,42.8,44.4,46.0,46.9,48.7,\n",
    "              59.0,61.1,62.9,64.3,65.6,67.3,\n",
    "              106.5,130.0,145.0,175.0,185.0])\n",
    "ln_t_s=np.log(t_ms*1e-3)\n",
    "ln_R_m=np.log(R_m)\n",
    "#拟合\n",
    "k,b=np.polyfit(ln_t_s,2.5*ln_R_m,1)\n",
    "tspan=np.arange(-10,-1,0.1)\n",
    "#作图\n",
    "fig=plt.figure(figsize=(5,5))\n",
    "axis=fig.add_subplot()\n",
    "axis.scatter(ln_t_s,2.5*ln_R_m,marker='+',c='red',label='data point')\n",
    "axis.plot(tspan,k*tspan+b,c='black',label='fitted line')\n",
    "axis.set_title('Logarithmic plot showing that $R^\\\\frac{5}{2}$ is proportional to t',y=-0.2)\n",
    "axis.set_xlabel('$\\ln t$')\n",
    "axis.set_ylabel('$\\\\frac{5}{2}\\ln R$')\n",
    "axis.legend()\n",
    "plt.show()"
   ]
  },
  {
   "attachments": {},
   "cell_type": "markdown",
   "metadata": {},
   "source": [
    "<br>&emsp;&emsp;根据拟合参数b我们可以算出原子弹爆炸的能量估计值,泰勒教授的计算结果为$1.68\\times 10^4$吨当量TNT,而美国官方公布的估计值为$1.8\\times 10^4\\sim 2.0\\times 10^4$吨当量TNT,相差不大"
   ]
  },
  {
   "cell_type": "code",
   "execution_count": 5,
   "metadata": {},
   "outputs": [
    {
     "name": "stdout",
     "output_type": "stream",
     "text": [
      "爆炸释放的能量为:9.013981e+13焦耳\n",
      "TNT当量:2.16e+04吨\n"
     ]
    }
   ],
   "source": [
    "E=np.e**((0.0820129734155605+b)*2)\n",
    "print('爆炸释放的能量为:%e焦耳'%E)\n",
    "print('TNT当量:%.2e吨'%(E/4.18e9))"
   ]
  },
  {
   "attachments": {},
   "cell_type": "markdown",
   "metadata": {},
   "source": [
    "参考文献\n",
    "1. 梁灿彬,曹周健.量纲理论与应用.北京:科学出版社.2020,210-214\n",
    "2. [Sir Geoffrey Taylor F R S, 1950. The formation of a blast wave by a very intense explosion. II. The atomic explosion of 1945,201:175](https://royalsocietypublishing.org/doi/10.1098/rspa.1950.0050)"
   ]
  }
 ],
 "metadata": {
  "kernelspec": {
   "display_name": "Python 3",
   "language": "python",
   "name": "python3"
  },
  "language_info": {
   "codemirror_mode": {
    "name": "ipython",
    "version": 3
   },
   "file_extension": ".py",
   "mimetype": "text/x-python",
   "name": "python",
   "nbconvert_exporter": "python",
   "pygments_lexer": "ipython3",
   "version": "3.10.5"
  },
  "orig_nbformat": 4,
  "vscode": {
   "interpreter": {
    "hash": "27f6fea6f47ae512550f0b8facdbd035a93e1dd89633f7bf2dd00a2502c71d0d"
   }
  }
 },
 "nbformat": 4,
 "nbformat_minor": 2
}
